{
 "cells": [
  {
   "cell_type": "code",
   "execution_count": 1,
   "id": "76171d15-d3c4-43b2-aa2f-4f5e5ca87179",
   "metadata": {},
   "outputs": [],
   "source": [
    "import numpy as np"
   ]
  },
  {
   "cell_type": "code",
   "execution_count": 3,
   "id": "111179f2-626c-48c1-84ce-e47e0725c16b",
   "metadata": {},
   "outputs": [
    {
     "data": {
      "text/plain": [
       "(100, 2)"
      ]
     },
     "execution_count": 3,
     "metadata": {},
     "output_type": "execute_result"
    }
   ],
   "source": [
    "data = np.loadtxt(\"data.csv\",delimiter = \",\")\n",
    "data.shape"
   ]
  },
  {
   "cell_type": "code",
   "execution_count": 15,
   "id": "141bf61f-bac5-4148-bc0d-f9350f4d27b4",
   "metadata": {},
   "outputs": [],
   "source": [
    "def step_gradient(points , learning_rate , m , c):\n",
    "    slope_m = 0\n",
    "    slope_c = 0\n",
    "    for i in range(len(points)):\n",
    "        x = points[i,0]\n",
    "        y = points[i,1]\n",
    "        slope_m += (-2/len(points))*(y-m*x-c)*x\n",
    "        slope_c += (-2/len(points))*(y-m*x-c)\n",
    "    new_m = m - learning_rate*slope_m\n",
    "    new_c = c - learning_rate*slope_c\n",
    "    return new_m , new_c\n",
    "    "
   ]
  },
  {
   "cell_type": "code",
   "execution_count": 23,
   "id": "e5926098-9a00-4fad-aa18-097336ba586f",
   "metadata": {},
   "outputs": [],
   "source": [
    "def gd(points , learning_rate , num_iterations):\n",
    "    m=0\n",
    "    c=0\n",
    "    for i in range(num_iterations):\n",
    "        m , c = step_gradient(points , learning_rate , m , c)\n",
    "        print(i , \"Cost : \" , cost(points , m , c))\n",
    "    return m , c"
   ]
  },
  {
   "cell_type": "code",
   "execution_count": 27,
   "id": "c7e593cf-f826-4150-8c71-6793374f6bff",
   "metadata": {},
   "outputs": [],
   "source": [
    "def  cost(points , m , c):\n",
    "    total_cost = 0\n",
    "    M = len(points)\n",
    "    for i in range(M):\n",
    "        X = points[i,0]\n",
    "        Y = points[i,1]\n",
    "        total_cost += (1/M)*(Y - m * X -c)**2\n",
    "    return total_cost"
   ]
  },
  {
   "cell_type": "code",
   "execution_count": 37,
   "id": "6774654d-4752-4e3b-a024-0144b64a0f39",
   "metadata": {},
   "outputs": [],
   "source": [
    "def run():\n",
    "    learning_rate = 0.0001\n",
    "    num_iterations = 100\n",
    "    m , c = gd(data , learning_rate , num_iterations)\n",
    "    print(m , c)"
   ]
  },
  {
   "cell_type": "code",
   "execution_count": 36,
   "id": "3812920d-71d0-4330-93d5-d557dc74762d",
   "metadata": {},
   "outputs": [
    {
     "name": "stdout",
     "output_type": "stream",
     "text": [
      "0 Cost :  1484.5865574086486\n",
      "1 Cost :  457.8542575737672\n",
      "2 Cost :  199.5099857255389\n",
      "3 Cost :  134.50591058200533\n",
      "4 Cost :  118.1496934223995\n",
      "5 Cost :  114.0341490603815\n",
      "6 Cost :  112.99857731713657\n",
      "7 Cost :  112.73798187568467\n",
      "8 Cost :  112.6723843590911\n",
      "9 Cost :  112.65585181499745\n",
      "1.47741737554838 0.029639347874732384\n"
     ]
    }
   ],
   "source": [
    "run()"
   ]
  },
  {
   "cell_type": "code",
   "execution_count": null,
   "id": "1f7e0690-2088-4aa3-b4b3-d033db58c47e",
   "metadata": {},
   "outputs": [],
   "source": [
    " "
   ]
  }
 ],
 "metadata": {
  "kernelspec": {
   "display_name": "Python 3 (ipykernel)",
   "language": "python",
   "name": "python3"
  },
  "language_info": {
   "codemirror_mode": {
    "name": "ipython",
    "version": 3
   },
   "file_extension": ".py",
   "mimetype": "text/x-python",
   "name": "python",
   "nbconvert_exporter": "python",
   "pygments_lexer": "ipython3",
   "version": "3.11.5"
  }
 },
 "nbformat": 4,
 "nbformat_minor": 5
}
