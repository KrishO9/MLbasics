{
 "cells": [
  {
   "cell_type": "code",
   "execution_count": 2,
   "id": "9cc1593a-9dc0-4b5a-8f02-4a9059b2f4e7",
   "metadata": {},
   "outputs": [],
   "source": [
    "import numpy as np"
   ]
  },
  {
   "cell_type": "code",
   "execution_count": 3,
   "id": "15022ce7-9a30-4246-8193-8be632c4dfb5",
   "metadata": {},
   "outputs": [],
   "source": [
    "data = np.loadtxt(\"data.csv\",delimiter = \",\")"
   ]
  },
  {
   "cell_type": "code",
   "execution_count": 4,
   "id": "2880621c-5309-4845-afa2-873db13f7537",
   "metadata": {},
   "outputs": [],
   "source": [
    "X = data[:,0]\n",
    "Y = data[:,1]"
   ]
  },
  {
   "cell_type": "code",
   "execution_count": 5,
   "id": "6b1b26af-d27b-4109-8d42-3cdedc5cdcd0",
   "metadata": {},
   "outputs": [
    {
     "data": {
      "text/plain": [
       "(70,)"
      ]
     },
     "execution_count": 5,
     "metadata": {},
     "output_type": "execute_result"
    }
   ],
   "source": [
    "from sklearn import model_selection\n",
    "X_train , X_test , Y_train , Y_test = model_selection.train_test_split(X , Y , test_size = 0.3)\n",
    "X_train.shape\n",
    "    "
   ]
  },
  {
   "cell_type": "code",
   "execution_count": 24,
   "id": "758867ec-0587-4b8a-aff4-395426d834a8",
   "metadata": {},
   "outputs": [],
   "source": [
    "def fit(X_train , Y_train):\n",
    "    num = (X_train*Y_train).mean() - X_train.mean() * Y_train.mean()\n",
    "    den = (X_train**2).mean() - X_train.mean()**2\n",
    "    m = num/den\n",
    "    c = Y_train.mean() - m * X_train.mean()\n",
    "    return m ,c"
   ]
  },
  {
   "cell_type": "code",
   "execution_count": 31,
   "id": "dd55d78e-9643-4740-b893-16a5d02e293b",
   "metadata": {},
   "outputs": [],
   "source": [
    "def predict(x, m , c):\n",
    "    return m * x + c\n",
    "\n",
    "def score(y_true , y_pred):\n",
    "    u = ((y_true - y_pred)**2).sum()\n",
    "    v = ((y_true - y_true.mean())**2).sum()\n",
    "    return 1 - (u/v)\n",
    "\n",
    "def cost(x, y , m , c):\n",
    "    return ((y - m*x - c)**2).mean()\n",
    "    \n",
    "    "
   ]
  },
  {
   "cell_type": "code",
   "execution_count": 36,
   "id": "7b538407-83c7-46a4-94dd-297288222a78",
   "metadata": {},
   "outputs": [
    {
     "name": "stdout",
     "output_type": "stream",
     "text": [
      "Test Score:  0.6506889360170288\n",
      "Train Score :  0.5577243066732227\n",
      "M , C 1.2710979689529558 9.341553014862285\n",
      "Cost on training data :  118.33543879893026\n",
      "Cost on test data :  96.74045911123925\n"
     ]
    }
   ],
   "source": [
    "m , c = fit(X_train , Y_train)\n",
    "#test data\n",
    "y_test_pred = predict(X_test, m , c)\n",
    "print(\"Test Score: \",score(Y_test,y_test_pred))\n",
    "\n",
    "#train_data\n",
    "y_train_pred = predict(X_train , m , c)\n",
    "print(\"Train Score : \",score(Y_train,y_train_pred))\n",
    "print(\"M , C\", m , c)\n",
    "print(\"Cost on training data : \" , cost(X_train , Y_train , m ,c))\n",
    "print(\"Cost on test data : \" , cost(X_test , Y_test , m ,c))"
   ]
  },
  {
   "cell_type": "code",
   "execution_count": null,
   "id": "51fce699-d775-4aa1-b17e-d339f72ccb67",
   "metadata": {},
   "outputs": [],
   "source": []
  }
 ],
 "metadata": {
  "kernelspec": {
   "display_name": "Python 3 (ipykernel)",
   "language": "python",
   "name": "python3"
  },
  "language_info": {
   "codemirror_mode": {
    "name": "ipython",
    "version": 3
   },
   "file_extension": ".py",
   "mimetype": "text/x-python",
   "name": "python",
   "nbconvert_exporter": "python",
   "pygments_lexer": "ipython3",
   "version": "3.11.5"
  }
 },
 "nbformat": 4,
 "nbformat_minor": 5
}
