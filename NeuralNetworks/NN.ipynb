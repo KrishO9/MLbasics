{
 "cells": [
  {
   "cell_type": "code",
   "execution_count": 1,
   "metadata": {},
   "outputs": [],
   "source": [
    "import math\n",
    "class Value:\n",
    "  \n",
    "  def __init__(self, data, _children=(), _op='', label=''):\n",
    "    self.data = data\n",
    "    self.grad = 0.0\n",
    "    self._backward = lambda: None\n",
    "    self._prev = set(_children)\n",
    "    self._op = _op\n",
    "    self.label = label\n",
    "\n",
    "  def __repr__(self):\n",
    "    return f\"Value(data={self.data})\"\n",
    "  \n",
    "  def __add__(self, other):\n",
    "    other = other if isinstance(other, Value) else Value(other)\n",
    "    out = Value(self.data + other.data, (self, other), '+')\n",
    "    \n",
    "    def _backward():\n",
    "      self.grad += 1.0 * out.grad\n",
    "      other.grad += 1.0 * out.grad\n",
    "    out._backward = _backward\n",
    "    \n",
    "    return out\n",
    "  \n",
    "  def __radd__(self,other):\n",
    "    return self + other\n",
    "  \n",
    "  def __neg__(self):\n",
    "    return self * -1\n",
    "  \n",
    "  def __sub__(self,other):\n",
    "    return self + (-other)\n",
    "  \n",
    "  def __rsub__(self,other):\n",
    "    return self + (-other)\n",
    "\n",
    "  def __mul__(self, other):\n",
    "    other = other if isinstance(other, Value) else Value(other)\n",
    "    out = Value(self.data * other.data, (self, other), '*')\n",
    "    \n",
    "    def _backward():\n",
    "      self.grad += other.data * out.grad\n",
    "      other.grad += self.data * out.grad\n",
    "    out._backward = _backward\n",
    "      \n",
    "    return out\n",
    "  \n",
    "  def __rmul__(self,other):\n",
    "    return self * other\n",
    "  \n",
    "  def __pow__(self, other):\n",
    "    assert isinstance(other, (int,float)) #denominator can only be either int or float\n",
    "    out = Value(self.data**other, (self,), f'**{other}')\n",
    "\n",
    "    def _backward():\n",
    "      self.grad = (other)* (self.data**(other-1)) * out.grad\n",
    "    out._backward = _backward\n",
    "\n",
    "    return out\n",
    "\n",
    "  def __truediv__(self,other):\n",
    "    return self * other**-1\n",
    "  \n",
    "  def tanh(self):\n",
    "    x = self.data\n",
    "    t = (math.exp(2*x) - 1)/(math.exp(2*x) + 1)\n",
    "    out = Value(t, (self, ), 'tanh')\n",
    "    \n",
    "    def _backward():\n",
    "      self.grad += (1 - t**2) * out.grad\n",
    "    out._backward = _backward\n",
    "    \n",
    "    return out\n",
    "  \n",
    "  def exp(self):\n",
    "    x = self.data\n",
    "    out = Value(math.exp(x), (self, ), 'exp')\n",
    "    \n",
    "    def _backward():\n",
    "      self.grad += out.data * out.grad\n",
    "    out._backward = _backward\n",
    "    \n",
    "    return out\n",
    "  \n",
    "  def backward(self):\n",
    "    \n",
    "    topo = []\n",
    "    visited = set()\n",
    "    def build_topo(v):\n",
    "      if v not in visited:\n",
    "        visited.add(v)\n",
    "        for child in v._prev:\n",
    "          build_topo(child)\n",
    "        topo.append(v)\n",
    "    build_topo(self)\n",
    "    \n",
    "    self.grad = 1.0\n",
    "    for node in reversed(topo):\n",
    "      node._backward()\n",
    "    \n",
    "\n",
    "    \n",
    "\n",
    "a = Value(2.9,label='a')\n",
    "b = Value(3.2, label='b')\n",
    "c= Value(10.0,label='c')\n",
    "e= a*b; e.label = 'e'\n",
    "d = e+c; d.label = 'd'\n",
    "f = Value(1.0,label='f')\n",
    "L = f*d;L.label='L'\n"
   ]
  },
  {
   "cell_type": "code",
   "execution_count": 2,
   "metadata": {},
   "outputs": [
    {
     "data": {
      "text/plain": [
       "Value(data=0.8)"
      ]
     },
     "execution_count": 2,
     "metadata": {},
     "output_type": "execute_result"
    }
   ],
   "source": [
    "a= Value(2.0)\n",
    "b = Value(1.2)\n",
    "a-b"
   ]
  },
  {
   "cell_type": "code",
   "execution_count": 3,
   "metadata": {},
   "outputs": [
    {
     "data": {
      "text/plain": [
       "Value(data=1.1)"
      ]
     },
     "execution_count": 3,
     "metadata": {},
     "output_type": "execute_result"
    }
   ],
   "source": [
    "a = Value(2.2)\n",
    "a/2"
   ]
  },
  {
   "cell_type": "markdown",
   "metadata": {},
   "source": [
    "Operator Overloading: Python allows you to redefine the behavior of standard operators (+, -, *, etc.) for custom objects by implementing special methods like __add__, __sub__, and __mul__ in your class."
   ]
  },
  {
   "cell_type": "code",
   "execution_count": 4,
   "metadata": {},
   "outputs": [
    {
     "data": {
      "text/plain": [
       "{Value(data=10.0), Value(data=9.28)}"
      ]
     },
     "execution_count": 4,
     "metadata": {},
     "output_type": "execute_result"
    }
   ],
   "source": [
    "d._prev"
   ]
  },
  {
   "cell_type": "code",
   "execution_count": 5,
   "metadata": {},
   "outputs": [
    {
     "data": {
      "text/plain": [
       "'+'"
      ]
     },
     "execution_count": 5,
     "metadata": {},
     "output_type": "execute_result"
    }
   ],
   "source": [
    "d._op"
   ]
  },
  {
   "cell_type": "code",
   "execution_count": 6,
   "metadata": {},
   "outputs": [
    {
     "name": "stdout",
     "output_type": "stream",
     "text": [
      "Defaulting to user installation because normal site-packages is not writeable\n",
      "Requirement already satisfied: graphviz in c:\\users\\krish\\appdata\\local\\packages\\pythonsoftwarefoundation.python.3.12_qbz5n2kfra8p0\\localcache\\local-packages\\python312\\site-packages (0.20.3)\n"
     ]
    },
    {
     "name": "stderr",
     "output_type": "stream",
     "text": [
      "\n",
      "[notice] A new release of pip is available: 24.2 -> 24.3.1\n",
      "[notice] To update, run: C:\\Users\\krish\\AppData\\Local\\Microsoft\\WindowsApps\\PythonSoftwareFoundation.Python.3.12_qbz5n2kfra8p0\\python.exe -m pip install --upgrade pip\n"
     ]
    }
   ],
   "source": [
    "!pip install graphviz"
   ]
  },
  {
   "cell_type": "code",
   "execution_count": 7,
   "metadata": {},
   "outputs": [],
   "source": [
    "from graphviz import Digraph\n",
    "\n",
    "def trace(root):\n",
    "    #set of all nodes and edges in a graph\n",
    "    nodes, edges = set() , set()\n",
    "    def build(v):\n",
    "        if v not in nodes:\n",
    "            nodes.add(v)\n",
    "            for child in v._prev:\n",
    "                edges.add((child,v))\n",
    "                build(child)\n",
    "    build(root)\n",
    "    return nodes, edges\n",
    "\n",
    "def draw_dot(root):\n",
    "    dot = Digraph(format='svg', graph_attr={'rankdir': 'LR'})\n",
    "\n",
    "    nodes, edges = trace(root)\n",
    "\n",
    "    for n in nodes:\n",
    "        uid = str(id(n))\n",
    "        # For every value in the graph, create a rectangular node for it\n",
    "        dot.node(name=uid, label=\"{%s | data %.4f | grad %.4f}\" % (n.label , n.data, n.grad), shape='record')\n",
    "        if n._op:\n",
    "            # If this value is the result of some operation, add an op node\n",
    "            dot.node(name=uid + n._op, label=n._op)\n",
    "            # Connect this node to it\n",
    "            dot.edge(uid + n._op, uid)\n",
    "\n",
    "    for n1, n2 in edges:\n",
    "        # Connect n1 to the op node of n2\n",
    "        dot.edge(str(id(n1)), str(id(n2)) + n2._op)\n",
    "\n",
    "    return dot\n",
    "\n"
   ]
  },
  {
   "cell_type": "code",
   "execution_count": 8,
   "metadata": {},
   "outputs": [
    {
     "data": {
      "image/svg+xml": [
       "<?xml version=\"1.0\" encoding=\"UTF-8\" standalone=\"no\"?>\n",
       "<!DOCTYPE svg PUBLIC \"-//W3C//DTD SVG 1.1//EN\"\n",
       " \"http://www.w3.org/Graphics/SVG/1.1/DTD/svg11.dtd\">\n",
       "<!-- Generated by graphviz version 11.0.0 (20240428.1522)\n",
       " -->\n",
       "<!-- Pages: 1 -->\n",
       "<svg width=\"1150pt\" height=\"154pt\"\n",
       " viewBox=\"0.00 0.00 1150.25 154.00\" xmlns=\"http://www.w3.org/2000/svg\" xmlns:xlink=\"http://www.w3.org/1999/xlink\">\n",
       "<g id=\"graph0\" class=\"graph\" transform=\"scale(1 1) rotate(0) translate(4 150)\">\n",
       "<polygon fill=\"white\" stroke=\"none\" points=\"-4,4 -4,-150 1146.25,-150 1146.25,4 -4,4\"/>\n",
       "<!-- 1857458790016 -->\n",
       "<g id=\"node1\" class=\"node\">\n",
       "<title>1857458790016</title>\n",
       "<polygon fill=\"none\" stroke=\"black\" points=\"315.75,-27.5 315.75,-63.5 500.25,-63.5 500.25,-27.5 315.75,-27.5\"/>\n",
       "<text text-anchor=\"middle\" x=\"326.75\" y=\"-40.2\" font-family=\"Times New Roman,serif\" font-size=\"14.00\">e</text>\n",
       "<polyline fill=\"none\" stroke=\"black\" points=\"337.75,-27.75 337.75,-63.5\"/>\n",
       "<text text-anchor=\"middle\" x=\"378\" y=\"-40.2\" font-family=\"Times New Roman,serif\" font-size=\"14.00\">data 9.2800</text>\n",
       "<polyline fill=\"none\" stroke=\"black\" points=\"418.25,-27.75 418.25,-63.5\"/>\n",
       "<text text-anchor=\"middle\" x=\"459.25\" y=\"-40.2\" font-family=\"Times New Roman,serif\" font-size=\"14.00\">grad 0.0000</text>\n",
       "</g>\n",
       "<!-- 1857458788288+ -->\n",
       "<g id=\"node10\" class=\"node\">\n",
       "<title>1857458788288+</title>\n",
       "<ellipse fill=\"none\" stroke=\"black\" cx=\"567\" cy=\"-72.5\" rx=\"27\" ry=\"18\"/>\n",
       "<text text-anchor=\"middle\" x=\"567\" y=\"-67.08\" font-family=\"Times New Roman,serif\" font-size=\"14.00\">+</text>\n",
       "</g>\n",
       "<!-- 1857458790016&#45;&gt;1857458788288+ -->\n",
       "<g id=\"edge5\" class=\"edge\">\n",
       "<title>1857458790016&#45;&gt;1857458788288+</title>\n",
       "<path fill=\"none\" stroke=\"black\" d=\"M500.33,-61.21C510.55,-62.96 520.48,-64.67 529.39,-66.2\"/>\n",
       "<polygon fill=\"black\" stroke=\"black\" points=\"528.51,-69.6 538.96,-67.85 529.7,-62.71 528.51,-69.6\"/>\n",
       "</g>\n",
       "<!-- 1857458790016* -->\n",
       "<g id=\"node2\" class=\"node\">\n",
       "<title>1857458790016*</title>\n",
       "<ellipse fill=\"none\" stroke=\"black\" cx=\"249\" cy=\"-45.5\" rx=\"27\" ry=\"18\"/>\n",
       "<text text-anchor=\"middle\" x=\"249\" y=\"-40.08\" font-family=\"Times New Roman,serif\" font-size=\"14.00\">*</text>\n",
       "</g>\n",
       "<!-- 1857458790016*&#45;&gt;1857458790016 -->\n",
       "<g id=\"edge1\" class=\"edge\">\n",
       "<title>1857458790016*&#45;&gt;1857458790016</title>\n",
       "<path fill=\"none\" stroke=\"black\" d=\"M276.28,-45.5C284.48,-45.5 294.08,-45.5 304.29,-45.5\"/>\n",
       "<polygon fill=\"black\" stroke=\"black\" points=\"304.05,-49 314.05,-45.5 304.05,-42 304.05,-49\"/>\n",
       "</g>\n",
       "<!-- 1857458792080 -->\n",
       "<g id=\"node3\" class=\"node\">\n",
       "<title>1857458792080</title>\n",
       "<polygon fill=\"none\" stroke=\"black\" points=\"634.88,-109.5 634.88,-145.5 817.88,-145.5 817.88,-109.5 634.88,-109.5\"/>\n",
       "<text text-anchor=\"middle\" x=\"645.12\" y=\"-122.2\" font-family=\"Times New Roman,serif\" font-size=\"14.00\">f</text>\n",
       "<polyline fill=\"none\" stroke=\"black\" points=\"655.38,-109.75 655.38,-145.5\"/>\n",
       "<text text-anchor=\"middle\" x=\"695.62\" y=\"-122.2\" font-family=\"Times New Roman,serif\" font-size=\"14.00\">data 1.0000</text>\n",
       "<polyline fill=\"none\" stroke=\"black\" points=\"735.88,-109.75 735.88,-145.5\"/>\n",
       "<text text-anchor=\"middle\" x=\"776.88\" y=\"-122.2\" font-family=\"Times New Roman,serif\" font-size=\"14.00\">grad 0.0000</text>\n",
       "</g>\n",
       "<!-- 1857458792272* -->\n",
       "<g id=\"node7\" class=\"node\">\n",
       "<title>1857458792272*</title>\n",
       "<ellipse fill=\"none\" stroke=\"black\" cx=\"885.75\" cy=\"-99.5\" rx=\"27\" ry=\"18\"/>\n",
       "<text text-anchor=\"middle\" x=\"885.75\" y=\"-94.08\" font-family=\"Times New Roman,serif\" font-size=\"14.00\">*</text>\n",
       "</g>\n",
       "<!-- 1857458792080&#45;&gt;1857458792272* -->\n",
       "<g id=\"edge9\" class=\"edge\">\n",
       "<title>1857458792080&#45;&gt;1857458792272*</title>\n",
       "<path fill=\"none\" stroke=\"black\" d=\"M818.01,-111.37C828.67,-109.48 839.04,-107.63 848.3,-105.99\"/>\n",
       "<polygon fill=\"black\" stroke=\"black\" points=\"848.65,-109.48 857.88,-104.28 847.42,-102.59 848.65,-109.48\"/>\n",
       "</g>\n",
       "<!-- 1857458470544 -->\n",
       "<g id=\"node4\" class=\"node\">\n",
       "<title>1857458470544</title>\n",
       "<polygon fill=\"none\" stroke=\"black\" points=\"312,-82.5 312,-118.5 504,-118.5 504,-82.5 312,-82.5\"/>\n",
       "<text text-anchor=\"middle\" x=\"323.38\" y=\"-95.2\" font-family=\"Times New Roman,serif\" font-size=\"14.00\">c</text>\n",
       "<polyline fill=\"none\" stroke=\"black\" points=\"334.75,-82.75 334.75,-118.5\"/>\n",
       "<text text-anchor=\"middle\" x=\"378.38\" y=\"-95.2\" font-family=\"Times New Roman,serif\" font-size=\"14.00\">data 10.0000</text>\n",
       "<polyline fill=\"none\" stroke=\"black\" points=\"422,-82.75 422,-118.5\"/>\n",
       "<text text-anchor=\"middle\" x=\"463\" y=\"-95.2\" font-family=\"Times New Roman,serif\" font-size=\"14.00\">grad 0.0000</text>\n",
       "</g>\n",
       "<!-- 1857458470544&#45;&gt;1857458788288+ -->\n",
       "<g id=\"edge6\" class=\"edge\">\n",
       "<title>1857458470544&#45;&gt;1857458788288+</title>\n",
       "<path fill=\"none\" stroke=\"black\" d=\"M504.4,-83.49C513.18,-81.92 521.67,-80.41 529.39,-79.03\"/>\n",
       "<polygon fill=\"black\" stroke=\"black\" points=\"529.75,-82.52 538.98,-77.32 528.52,-75.63 529.75,-82.52\"/>\n",
       "</g>\n",
       "<!-- 1857458467616 -->\n",
       "<g id=\"node5\" class=\"node\">\n",
       "<title>1857458467616</title>\n",
       "<polygon fill=\"none\" stroke=\"black\" points=\"0.75,-55.5 0.75,-91.5 185.25,-91.5 185.25,-55.5 0.75,-55.5\"/>\n",
       "<text text-anchor=\"middle\" x=\"11.75\" y=\"-68.2\" font-family=\"Times New Roman,serif\" font-size=\"14.00\">a</text>\n",
       "<polyline fill=\"none\" stroke=\"black\" points=\"22.75,-55.75 22.75,-91.5\"/>\n",
       "<text text-anchor=\"middle\" x=\"63\" y=\"-68.2\" font-family=\"Times New Roman,serif\" font-size=\"14.00\">data 2.9000</text>\n",
       "<polyline fill=\"none\" stroke=\"black\" points=\"103.25,-55.75 103.25,-91.5\"/>\n",
       "<text text-anchor=\"middle\" x=\"144.25\" y=\"-68.2\" font-family=\"Times New Roman,serif\" font-size=\"14.00\">grad 0.0000</text>\n",
       "</g>\n",
       "<!-- 1857458467616&#45;&gt;1857458790016* -->\n",
       "<g id=\"edge4\" class=\"edge\">\n",
       "<title>1857458467616&#45;&gt;1857458790016*</title>\n",
       "<path fill=\"none\" stroke=\"black\" d=\"M185.36,-56.89C194.5,-55.23 203.36,-53.62 211.4,-52.15\"/>\n",
       "<polygon fill=\"black\" stroke=\"black\" points=\"211.83,-55.63 221.04,-50.4 210.57,-48.75 211.83,-55.63\"/>\n",
       "</g>\n",
       "<!-- 1857458792272 -->\n",
       "<g id=\"node6\" class=\"node\">\n",
       "<title>1857458792272</title>\n",
       "<polygon fill=\"none\" stroke=\"black\" points=\"948.75,-81.5 948.75,-117.5 1142.25,-117.5 1142.25,-81.5 948.75,-81.5\"/>\n",
       "<text text-anchor=\"middle\" x=\"960.88\" y=\"-94.2\" font-family=\"Times New Roman,serif\" font-size=\"14.00\">L</text>\n",
       "<polyline fill=\"none\" stroke=\"black\" points=\"973,-81.75 973,-117.5\"/>\n",
       "<text text-anchor=\"middle\" x=\"1016.62\" y=\"-94.2\" font-family=\"Times New Roman,serif\" font-size=\"14.00\">data 19.2800</text>\n",
       "<polyline fill=\"none\" stroke=\"black\" points=\"1060.25,-81.75 1060.25,-117.5\"/>\n",
       "<text text-anchor=\"middle\" x=\"1101.25\" y=\"-94.2\" font-family=\"Times New Roman,serif\" font-size=\"14.00\">grad 0.0000</text>\n",
       "</g>\n",
       "<!-- 1857458792272*&#45;&gt;1857458792272 -->\n",
       "<g id=\"edge2\" class=\"edge\">\n",
       "<title>1857458792272*&#45;&gt;1857458792272</title>\n",
       "<path fill=\"none\" stroke=\"black\" d=\"M913.15,-99.5C920.31,-99.5 928.52,-99.5 937.26,-99.5\"/>\n",
       "<polygon fill=\"black\" stroke=\"black\" points=\"937.07,-103 947.07,-99.5 937.07,-96 937.07,-103\"/>\n",
       "</g>\n",
       "<!-- 1857458467712 -->\n",
       "<g id=\"node8\" class=\"node\">\n",
       "<title>1857458467712</title>\n",
       "<polygon fill=\"none\" stroke=\"black\" points=\"0,-0.5 0,-36.5 186,-36.5 186,-0.5 0,-0.5\"/>\n",
       "<text text-anchor=\"middle\" x=\"11.75\" y=\"-13.2\" font-family=\"Times New Roman,serif\" font-size=\"14.00\">b</text>\n",
       "<polyline fill=\"none\" stroke=\"black\" points=\"23.5,-0.75 23.5,-36.5\"/>\n",
       "<text text-anchor=\"middle\" x=\"63.75\" y=\"-13.2\" font-family=\"Times New Roman,serif\" font-size=\"14.00\">data 3.2000</text>\n",
       "<polyline fill=\"none\" stroke=\"black\" points=\"104,-0.75 104,-36.5\"/>\n",
       "<text text-anchor=\"middle\" x=\"145\" y=\"-13.2\" font-family=\"Times New Roman,serif\" font-size=\"14.00\">grad 0.0000</text>\n",
       "</g>\n",
       "<!-- 1857458467712&#45;&gt;1857458790016* -->\n",
       "<g id=\"edge7\" class=\"edge\">\n",
       "<title>1857458467712&#45;&gt;1857458790016*</title>\n",
       "<path fill=\"none\" stroke=\"black\" d=\"M186.25,-34.67C195.01,-36.21 203.5,-37.7 211.24,-39.05\"/>\n",
       "<polygon fill=\"black\" stroke=\"black\" points=\"210.39,-42.46 220.84,-40.74 211.6,-35.56 210.39,-42.46\"/>\n",
       "</g>\n",
       "<!-- 1857458788288 -->\n",
       "<g id=\"node9\" class=\"node\">\n",
       "<title>1857458788288</title>\n",
       "<polygon fill=\"none\" stroke=\"black\" points=\"630,-54.5 630,-90.5 822.75,-90.5 822.75,-54.5 630,-54.5\"/>\n",
       "<text text-anchor=\"middle\" x=\"641.75\" y=\"-67.2\" font-family=\"Times New Roman,serif\" font-size=\"14.00\">d</text>\n",
       "<polyline fill=\"none\" stroke=\"black\" points=\"653.5,-54.75 653.5,-90.5\"/>\n",
       "<text text-anchor=\"middle\" x=\"697.12\" y=\"-67.2\" font-family=\"Times New Roman,serif\" font-size=\"14.00\">data 19.2800</text>\n",
       "<polyline fill=\"none\" stroke=\"black\" points=\"740.75,-54.75 740.75,-90.5\"/>\n",
       "<text text-anchor=\"middle\" x=\"781.75\" y=\"-67.2\" font-family=\"Times New Roman,serif\" font-size=\"14.00\">grad 0.0000</text>\n",
       "</g>\n",
       "<!-- 1857458788288&#45;&gt;1857458792272* -->\n",
       "<g id=\"edge8\" class=\"edge\">\n",
       "<title>1857458788288&#45;&gt;1857458792272*</title>\n",
       "<path fill=\"none\" stroke=\"black\" d=\"M823,-88.91C831.81,-90.42 840.32,-91.88 848.06,-93.2\"/>\n",
       "<polygon fill=\"black\" stroke=\"black\" points=\"847.21,-96.61 857.66,-94.85 848.4,-89.71 847.21,-96.61\"/>\n",
       "</g>\n",
       "<!-- 1857458788288+&#45;&gt;1857458788288 -->\n",
       "<g id=\"edge3\" class=\"edge\">\n",
       "<title>1857458788288+&#45;&gt;1857458788288</title>\n",
       "<path fill=\"none\" stroke=\"black\" d=\"M594.34,-72.5C601.48,-72.5 609.67,-72.5 618.39,-72.5\"/>\n",
       "<polygon fill=\"black\" stroke=\"black\" points=\"618.17,-76 628.17,-72.5 618.17,-69 618.17,-76\"/>\n",
       "</g>\n",
       "</g>\n",
       "</svg>\n"
      ],
      "text/plain": [
       "<graphviz.graphs.Digraph at 0x1b07926ef30>"
      ]
     },
     "execution_count": 8,
     "metadata": {},
     "output_type": "execute_result"
    }
   ],
   "source": [
    "draw_dot(L)"
   ]
  },
  {
   "cell_type": "code",
   "execution_count": 9,
   "metadata": {},
   "outputs": [],
   "source": [
    "x1 = Value(2.0, label='x1')\n",
    "x2 = Value(0.0, label='x2')\n",
    "\n",
    "w1 = Value(-3.0, label='w1')\n",
    "w2 = Value(1.0, label = 'w2')\n",
    "\n",
    "b = Value(6.7, label='b')\n",
    "\n",
    "x1w1 = x1*w1; x1w1.label='x1w1'\n",
    "x2w2 = x2*w2; x2w2.label='x2w2'\n",
    "x1w1x2w2 = x1w1 + x2w2; x1w1x2w2.label='x1*w1 + x2*w1'\n",
    "n = x1w1x2w2+b; n.label='n'\n",
    "o= n.tanh(); o.label='o'\n",
    "o.backward()"
   ]
  },
  {
   "cell_type": "code",
   "execution_count": 10,
   "metadata": {},
   "outputs": [
    {
     "data": {
      "image/svg+xml": [
       "<?xml version=\"1.0\" encoding=\"UTF-8\" standalone=\"no\"?>\n",
       "<!DOCTYPE svg PUBLIC \"-//W3C//DTD SVG 1.1//EN\"\n",
       " \"http://www.w3.org/Graphics/SVG/1.1/DTD/svg11.dtd\">\n",
       "<!-- Generated by graphviz version 11.0.0 (20240428.1522)\n",
       " -->\n",
       "<!-- Pages: 1 -->\n",
       "<svg width=\"1568pt\" height=\"210pt\"\n",
       " viewBox=\"0.00 0.00 1568.00 210.00\" xmlns=\"http://www.w3.org/2000/svg\" xmlns:xlink=\"http://www.w3.org/1999/xlink\">\n",
       "<g id=\"graph0\" class=\"graph\" transform=\"scale(1 1) rotate(0) translate(4 206)\">\n",
       "<polygon fill=\"white\" stroke=\"none\" points=\"-4,4 -4,-206 1564,-206 1564,4 -4,4\"/>\n",
       "<!-- 1857458792512 -->\n",
       "<g id=\"node1\" class=\"node\">\n",
       "<title>1857458792512</title>\n",
       "<polygon fill=\"none\" stroke=\"black\" points=\"325.5,-55.5 325.5,-91.5 538.5,-91.5 538.5,-55.5 325.5,-55.5\"/>\n",
       "<text text-anchor=\"middle\" x=\"348.5\" y=\"-68.2\" font-family=\"Times New Roman,serif\" font-size=\"14.00\">x1w1</text>\n",
       "<polyline fill=\"none\" stroke=\"black\" points=\"371.5,-55.75 371.5,-91.5\"/>\n",
       "<text text-anchor=\"middle\" x=\"414\" y=\"-68.2\" font-family=\"Times New Roman,serif\" font-size=\"14.00\">data &#45;6.0000</text>\n",
       "<polyline fill=\"none\" stroke=\"black\" points=\"456.5,-55.75 456.5,-91.5\"/>\n",
       "<text text-anchor=\"middle\" x=\"497.5\" y=\"-68.2\" font-family=\"Times New Roman,serif\" font-size=\"14.00\">grad 0.6347</text>\n",
       "</g>\n",
       "<!-- 1857459440528+ -->\n",
       "<g id=\"node12\" class=\"node\">\n",
       "<title>1857459440528+</title>\n",
       "<ellipse fill=\"none\" stroke=\"black\" cx=\"601.5\" cy=\"-100.5\" rx=\"27\" ry=\"18\"/>\n",
       "<text text-anchor=\"middle\" x=\"601.5\" y=\"-95.08\" font-family=\"Times New Roman,serif\" font-size=\"14.00\">+</text>\n",
       "</g>\n",
       "<!-- 1857458792512&#45;&gt;1857459440528+ -->\n",
       "<g id=\"edge14\" class=\"edge\">\n",
       "<title>1857458792512&#45;&gt;1857459440528+</title>\n",
       "<path fill=\"none\" stroke=\"black\" d=\"M538.61,-90.52C547.35,-91.93 555.75,-93.29 563.4,-94.52\"/>\n",
       "<polygon fill=\"black\" stroke=\"black\" points=\"562.8,-97.97 573.23,-96.1 563.91,-91.06 562.8,-97.97\"/>\n",
       "</g>\n",
       "<!-- 1857458792512* -->\n",
       "<g id=\"node2\" class=\"node\">\n",
       "<title>1857458792512*</title>\n",
       "<ellipse fill=\"none\" stroke=\"black\" cx=\"262.5\" cy=\"-73.5\" rx=\"27\" ry=\"18\"/>\n",
       "<text text-anchor=\"middle\" x=\"262.5\" y=\"-68.08\" font-family=\"Times New Roman,serif\" font-size=\"14.00\">*</text>\n",
       "</g>\n",
       "<!-- 1857458792512*&#45;&gt;1857458792512 -->\n",
       "<g id=\"edge1\" class=\"edge\">\n",
       "<title>1857458792512*&#45;&gt;1857458792512</title>\n",
       "<path fill=\"none\" stroke=\"black\" d=\"M289.67,-73.5C296.79,-73.5 304.98,-73.5 313.76,-73.5\"/>\n",
       "<polygon fill=\"black\" stroke=\"black\" points=\"313.64,-77 323.64,-73.5 313.64,-70 313.64,-77\"/>\n",
       "</g>\n",
       "<!-- 1857458795776 -->\n",
       "<g id=\"node3\" class=\"node\">\n",
       "<title>1857458795776</title>\n",
       "<polygon fill=\"none\" stroke=\"black\" points=\"2.25,-165.5 2.25,-201.5 197.25,-201.5 197.25,-165.5 2.25,-165.5\"/>\n",
       "<text text-anchor=\"middle\" x=\"18.5\" y=\"-178.2\" font-family=\"Times New Roman,serif\" font-size=\"14.00\">w2</text>\n",
       "<polyline fill=\"none\" stroke=\"black\" points=\"34.75,-165.75 34.75,-201.5\"/>\n",
       "<text text-anchor=\"middle\" x=\"75\" y=\"-178.2\" font-family=\"Times New Roman,serif\" font-size=\"14.00\">data 1.0000</text>\n",
       "<polyline fill=\"none\" stroke=\"black\" points=\"115.25,-165.75 115.25,-201.5\"/>\n",
       "<text text-anchor=\"middle\" x=\"156.25\" y=\"-178.2\" font-family=\"Times New Roman,serif\" font-size=\"14.00\">grad 0.0000</text>\n",
       "</g>\n",
       "<!-- 1857459439952* -->\n",
       "<g id=\"node9\" class=\"node\">\n",
       "<title>1857459439952*</title>\n",
       "<ellipse fill=\"none\" stroke=\"black\" cx=\"262.5\" cy=\"-128.5\" rx=\"27\" ry=\"18\"/>\n",
       "<text text-anchor=\"middle\" x=\"262.5\" y=\"-123.08\" font-family=\"Times New Roman,serif\" font-size=\"14.00\">*</text>\n",
       "</g>\n",
       "<!-- 1857458795776&#45;&gt;1857459439952* -->\n",
       "<g id=\"edge13\" class=\"edge\">\n",
       "<title>1857458795776&#45;&gt;1857459439952*</title>\n",
       "<path fill=\"none\" stroke=\"black\" d=\"M173.43,-165.03C182.28,-162.37 191.14,-159.51 199.5,-156.5 209.59,-152.87 220.33,-148.29 229.98,-143.89\"/>\n",
       "<polygon fill=\"black\" stroke=\"black\" points=\"231.37,-147.1 238.95,-139.7 228.41,-140.76 231.37,-147.1\"/>\n",
       "</g>\n",
       "<!-- 1857459441440 -->\n",
       "<g id=\"node4\" class=\"node\">\n",
       "<title>1857459441440</title>\n",
       "<polygon fill=\"none\" stroke=\"black\" points=\"1374,-109.5 1374,-145.5 1560,-145.5 1560,-109.5 1374,-109.5\"/>\n",
       "<text text-anchor=\"middle\" x=\"1385.75\" y=\"-122.2\" font-family=\"Times New Roman,serif\" font-size=\"14.00\">o</text>\n",
       "<polyline fill=\"none\" stroke=\"black\" points=\"1397.5,-109.75 1397.5,-145.5\"/>\n",
       "<text text-anchor=\"middle\" x=\"1437.75\" y=\"-122.2\" font-family=\"Times New Roman,serif\" font-size=\"14.00\">data 0.6044</text>\n",
       "<polyline fill=\"none\" stroke=\"black\" points=\"1478,-109.75 1478,-145.5\"/>\n",
       "<text text-anchor=\"middle\" x=\"1519\" y=\"-122.2\" font-family=\"Times New Roman,serif\" font-size=\"14.00\">grad 1.0000</text>\n",
       "</g>\n",
       "<!-- 1857459441440tanh -->\n",
       "<g id=\"node5\" class=\"node\">\n",
       "<title>1857459441440tanh</title>\n",
       "<ellipse fill=\"none\" stroke=\"black\" cx=\"1311\" cy=\"-127.5\" rx=\"27\" ry=\"18\"/>\n",
       "<text text-anchor=\"middle\" x=\"1311\" y=\"-122.08\" font-family=\"Times New Roman,serif\" font-size=\"14.00\">tanh</text>\n",
       "</g>\n",
       "<!-- 1857459441440tanh&#45;&gt;1857459441440 -->\n",
       "<g id=\"edge2\" class=\"edge\">\n",
       "<title>1857459441440tanh&#45;&gt;1857459441440</title>\n",
       "<path fill=\"none\" stroke=\"black\" d=\"M1338.47,-127.5C1345.61,-127.5 1353.78,-127.5 1362.46,-127.5\"/>\n",
       "<polygon fill=\"black\" stroke=\"black\" points=\"1362.19,-131 1372.19,-127.5 1362.19,-124 1362.19,-131\"/>\n",
       "</g>\n",
       "<!-- 1857458464064 -->\n",
       "<g id=\"node6\" class=\"node\">\n",
       "<title>1857458464064</title>\n",
       "<polygon fill=\"none\" stroke=\"black\" points=\"3.75,-110.5 3.75,-146.5 195.75,-146.5 195.75,-110.5 3.75,-110.5\"/>\n",
       "<text text-anchor=\"middle\" x=\"18.5\" y=\"-123.2\" font-family=\"Times New Roman,serif\" font-size=\"14.00\">x2</text>\n",
       "<polyline fill=\"none\" stroke=\"black\" points=\"33.25,-110.75 33.25,-146.5\"/>\n",
       "<text text-anchor=\"middle\" x=\"73.5\" y=\"-123.2\" font-family=\"Times New Roman,serif\" font-size=\"14.00\">data 0.0000</text>\n",
       "<polyline fill=\"none\" stroke=\"black\" points=\"113.75,-110.75 113.75,-146.5\"/>\n",
       "<text text-anchor=\"middle\" x=\"154.75\" y=\"-123.2\" font-family=\"Times New Roman,serif\" font-size=\"14.00\">grad 0.6347</text>\n",
       "</g>\n",
       "<!-- 1857458464064&#45;&gt;1857459439952* -->\n",
       "<g id=\"edge9\" class=\"edge\">\n",
       "<title>1857458464064&#45;&gt;1857459439952*</title>\n",
       "<path fill=\"none\" stroke=\"black\" d=\"M196.12,-128.5C205.86,-128.5 215.3,-128.5 223.83,-128.5\"/>\n",
       "<polygon fill=\"black\" stroke=\"black\" points=\"223.71,-132 233.71,-128.5 223.71,-125 223.71,-132\"/>\n",
       "</g>\n",
       "<!-- 1857458463056 -->\n",
       "<g id=\"node7\" class=\"node\">\n",
       "<title>1857458463056</title>\n",
       "<polygon fill=\"none\" stroke=\"black\" points=\"1.5,-55.5 1.5,-91.5 198,-91.5 198,-55.5 1.5,-55.5\"/>\n",
       "<text text-anchor=\"middle\" x=\"16.25\" y=\"-68.2\" font-family=\"Times New Roman,serif\" font-size=\"14.00\">x1</text>\n",
       "<polyline fill=\"none\" stroke=\"black\" points=\"31,-55.75 31,-91.5\"/>\n",
       "<text text-anchor=\"middle\" x=\"71.25\" y=\"-68.2\" font-family=\"Times New Roman,serif\" font-size=\"14.00\">data 2.0000</text>\n",
       "<polyline fill=\"none\" stroke=\"black\" points=\"111.5,-55.75 111.5,-91.5\"/>\n",
       "<text text-anchor=\"middle\" x=\"154.75\" y=\"-68.2\" font-family=\"Times New Roman,serif\" font-size=\"14.00\">grad &#45;1.9042</text>\n",
       "</g>\n",
       "<!-- 1857458463056&#45;&gt;1857458792512* -->\n",
       "<g id=\"edge6\" class=\"edge\">\n",
       "<title>1857458463056&#45;&gt;1857458792512*</title>\n",
       "<path fill=\"none\" stroke=\"black\" d=\"M198.43,-73.5C207.33,-73.5 215.94,-73.5 223.79,-73.5\"/>\n",
       "<polygon fill=\"black\" stroke=\"black\" points=\"223.53,-77 233.53,-73.5 223.53,-70 223.53,-77\"/>\n",
       "</g>\n",
       "<!-- 1857459439952 -->\n",
       "<g id=\"node8\" class=\"node\">\n",
       "<title>1857459439952</title>\n",
       "<polygon fill=\"none\" stroke=\"black\" points=\"327.75,-110.5 327.75,-146.5 536.25,-146.5 536.25,-110.5 327.75,-110.5\"/>\n",
       "<text text-anchor=\"middle\" x=\"350.75\" y=\"-123.2\" font-family=\"Times New Roman,serif\" font-size=\"14.00\">x2w2</text>\n",
       "<polyline fill=\"none\" stroke=\"black\" points=\"373.75,-110.75 373.75,-146.5\"/>\n",
       "<text text-anchor=\"middle\" x=\"414\" y=\"-123.2\" font-family=\"Times New Roman,serif\" font-size=\"14.00\">data 0.0000</text>\n",
       "<polyline fill=\"none\" stroke=\"black\" points=\"454.25,-110.75 454.25,-146.5\"/>\n",
       "<text text-anchor=\"middle\" x=\"495.25\" y=\"-123.2\" font-family=\"Times New Roman,serif\" font-size=\"14.00\">grad 0.6347</text>\n",
       "</g>\n",
       "<!-- 1857459439952&#45;&gt;1857459440528+ -->\n",
       "<g id=\"edge8\" class=\"edge\">\n",
       "<title>1857459439952&#45;&gt;1857459440528+</title>\n",
       "<path fill=\"none\" stroke=\"black\" d=\"M536.7,-111.17C546.14,-109.59 555.22,-108.07 563.43,-106.7\"/>\n",
       "<polygon fill=\"black\" stroke=\"black\" points=\"563.98,-110.15 573.27,-105.05 562.83,-103.25 563.98,-110.15\"/>\n",
       "</g>\n",
       "<!-- 1857459439952*&#45;&gt;1857459439952 -->\n",
       "<g id=\"edge3\" class=\"edge\">\n",
       "<title>1857459439952*&#45;&gt;1857459439952</title>\n",
       "<path fill=\"none\" stroke=\"black\" d=\"M289.67,-128.5C297.34,-128.5 306.26,-128.5 315.82,-128.5\"/>\n",
       "<polygon fill=\"black\" stroke=\"black\" points=\"315.79,-132 325.79,-128.5 315.79,-125 315.79,-132\"/>\n",
       "</g>\n",
       "<!-- 1857448070512 -->\n",
       "<g id=\"node10\" class=\"node\">\n",
       "<title>1857448070512</title>\n",
       "<polygon fill=\"none\" stroke=\"black\" points=\"0,-0.5 0,-36.5 199.5,-36.5 199.5,-0.5 0,-0.5\"/>\n",
       "<text text-anchor=\"middle\" x=\"16.25\" y=\"-13.2\" font-family=\"Times New Roman,serif\" font-size=\"14.00\">w1</text>\n",
       "<polyline fill=\"none\" stroke=\"black\" points=\"32.5,-0.75 32.5,-36.5\"/>\n",
       "<text text-anchor=\"middle\" x=\"75\" y=\"-13.2\" font-family=\"Times New Roman,serif\" font-size=\"14.00\">data &#45;3.0000</text>\n",
       "<polyline fill=\"none\" stroke=\"black\" points=\"117.5,-0.75 117.5,-36.5\"/>\n",
       "<text text-anchor=\"middle\" x=\"158.5\" y=\"-13.2\" font-family=\"Times New Roman,serif\" font-size=\"14.00\">grad 1.2695</text>\n",
       "</g>\n",
       "<!-- 1857448070512&#45;&gt;1857458792512* -->\n",
       "<g id=\"edge12\" class=\"edge\">\n",
       "<title>1857448070512&#45;&gt;1857458792512*</title>\n",
       "<path fill=\"none\" stroke=\"black\" d=\"M170.45,-36.99C180.27,-39.97 190.19,-43.17 199.5,-46.5 209.46,-50.06 220.09,-54.46 229.68,-58.67\"/>\n",
       "<polygon fill=\"black\" stroke=\"black\" points=\"228.04,-61.77 238.6,-62.66 230.9,-55.38 228.04,-61.77\"/>\n",
       "</g>\n",
       "<!-- 1857459440528 -->\n",
       "<g id=\"node11\" class=\"node\">\n",
       "<title>1857459440528</title>\n",
       "<polygon fill=\"none\" stroke=\"black\" points=\"664.5,-82.5 664.5,-118.5 936.75,-118.5 936.75,-82.5 664.5,-82.5\"/>\n",
       "<text text-anchor=\"middle\" x=\"717.12\" y=\"-95.2\" font-family=\"Times New Roman,serif\" font-size=\"14.00\">x1*w1 + x2*w1</text>\n",
       "<polyline fill=\"none\" stroke=\"black\" points=\"769.75,-82.75 769.75,-118.5\"/>\n",
       "<text text-anchor=\"middle\" x=\"812.25\" y=\"-95.2\" font-family=\"Times New Roman,serif\" font-size=\"14.00\">data &#45;6.0000</text>\n",
       "<polyline fill=\"none\" stroke=\"black\" points=\"854.75,-82.75 854.75,-118.5\"/>\n",
       "<text text-anchor=\"middle\" x=\"895.75\" y=\"-95.2\" font-family=\"Times New Roman,serif\" font-size=\"14.00\">grad 0.6347</text>\n",
       "</g>\n",
       "<!-- 1857459441056+ -->\n",
       "<g id=\"node14\" class=\"node\">\n",
       "<title>1857459441056+</title>\n",
       "<ellipse fill=\"none\" stroke=\"black\" cx=\"999.75\" cy=\"-127.5\" rx=\"27\" ry=\"18\"/>\n",
       "<text text-anchor=\"middle\" x=\"999.75\" y=\"-122.08\" font-family=\"Times New Roman,serif\" font-size=\"14.00\">+</text>\n",
       "</g>\n",
       "<!-- 1857459440528&#45;&gt;1857459441056+ -->\n",
       "<g id=\"edge7\" class=\"edge\">\n",
       "<title>1857459440528&#45;&gt;1857459441056+</title>\n",
       "<path fill=\"none\" stroke=\"black\" d=\"M936.65,-118.99C945.59,-120.22 954.06,-121.38 961.71,-122.43\"/>\n",
       "<polygon fill=\"black\" stroke=\"black\" points=\"961.12,-125.88 971.5,-123.77 962.07,-118.94 961.12,-125.88\"/>\n",
       "</g>\n",
       "<!-- 1857459440528+&#45;&gt;1857459440528 -->\n",
       "<g id=\"edge4\" class=\"edge\">\n",
       "<title>1857459440528+&#45;&gt;1857459440528</title>\n",
       "<path fill=\"none\" stroke=\"black\" d=\"M628.68,-100.5C635.82,-100.5 644.1,-100.5 653.09,-100.5\"/>\n",
       "<polygon fill=\"black\" stroke=\"black\" points=\"652.85,-104 662.85,-100.5 652.85,-97 652.85,-104\"/>\n",
       "</g>\n",
       "<!-- 1857459441056 -->\n",
       "<g id=\"node13\" class=\"node\">\n",
       "<title>1857459441056</title>\n",
       "<polygon fill=\"none\" stroke=\"black\" points=\"1062.75,-109.5 1062.75,-145.5 1248,-145.5 1248,-109.5 1062.75,-109.5\"/>\n",
       "<text text-anchor=\"middle\" x=\"1074.12\" y=\"-122.2\" font-family=\"Times New Roman,serif\" font-size=\"14.00\">n</text>\n",
       "<polyline fill=\"none\" stroke=\"black\" points=\"1085.5,-109.75 1085.5,-145.5\"/>\n",
       "<text text-anchor=\"middle\" x=\"1125.75\" y=\"-122.2\" font-family=\"Times New Roman,serif\" font-size=\"14.00\">data 0.7000</text>\n",
       "<polyline fill=\"none\" stroke=\"black\" points=\"1166,-109.75 1166,-145.5\"/>\n",
       "<text text-anchor=\"middle\" x=\"1207\" y=\"-122.2\" font-family=\"Times New Roman,serif\" font-size=\"14.00\">grad 0.6347</text>\n",
       "</g>\n",
       "<!-- 1857459441056&#45;&gt;1857459441440tanh -->\n",
       "<g id=\"edge10\" class=\"edge\">\n",
       "<title>1857459441056&#45;&gt;1857459441440tanh</title>\n",
       "<path fill=\"none\" stroke=\"black\" d=\"M1248.4,-127.5C1256.77,-127.5 1264.89,-127.5 1272.34,-127.5\"/>\n",
       "<polygon fill=\"black\" stroke=\"black\" points=\"1272.28,-131 1282.28,-127.5 1272.28,-124 1272.28,-131\"/>\n",
       "</g>\n",
       "<!-- 1857459441056+&#45;&gt;1857459441056 -->\n",
       "<g id=\"edge5\" class=\"edge\">\n",
       "<title>1857459441056+&#45;&gt;1857459441056</title>\n",
       "<path fill=\"none\" stroke=\"black\" d=\"M1027.16,-127.5C1034.2,-127.5 1042.25,-127.5 1050.8,-127.5\"/>\n",
       "<polygon fill=\"black\" stroke=\"black\" points=\"1050.79,-131 1060.79,-127.5 1050.79,-124 1050.79,-131\"/>\n",
       "</g>\n",
       "<!-- 1857458795968 -->\n",
       "<g id=\"node15\" class=\"node\">\n",
       "<title>1857458795968</title>\n",
       "<polygon fill=\"none\" stroke=\"black\" points=\"707.62,-137.5 707.62,-173.5 893.62,-173.5 893.62,-137.5 707.62,-137.5\"/>\n",
       "<text text-anchor=\"middle\" x=\"719.38\" y=\"-150.2\" font-family=\"Times New Roman,serif\" font-size=\"14.00\">b</text>\n",
       "<polyline fill=\"none\" stroke=\"black\" points=\"731.12,-137.75 731.12,-173.5\"/>\n",
       "<text text-anchor=\"middle\" x=\"771.38\" y=\"-150.2\" font-family=\"Times New Roman,serif\" font-size=\"14.00\">data 6.7000</text>\n",
       "<polyline fill=\"none\" stroke=\"black\" points=\"811.62,-137.75 811.62,-173.5\"/>\n",
       "<text text-anchor=\"middle\" x=\"852.62\" y=\"-150.2\" font-family=\"Times New Roman,serif\" font-size=\"14.00\">grad 0.6347</text>\n",
       "</g>\n",
       "<!-- 1857458795968&#45;&gt;1857459441056+ -->\n",
       "<g id=\"edge11\" class=\"edge\">\n",
       "<title>1857458795968&#45;&gt;1857459441056+</title>\n",
       "<path fill=\"none\" stroke=\"black\" d=\"M893.84,-142.4C917.9,-138.98 942.47,-135.49 961.78,-132.75\"/>\n",
       "<polygon fill=\"black\" stroke=\"black\" points=\"962.17,-136.23 971.57,-131.36 961.18,-129.3 962.17,-136.23\"/>\n",
       "</g>\n",
       "</g>\n",
       "</svg>\n"
      ],
      "text/plain": [
       "<graphviz.graphs.Digraph at 0x1b0793390a0>"
      ]
     },
     "execution_count": 10,
     "metadata": {},
     "output_type": "execute_result"
    }
   ],
   "source": [
    "\n",
    "draw_dot(o)"
   ]
  },
  {
   "cell_type": "code",
   "execution_count": 5,
   "metadata": {},
   "outputs": [],
   "source": [
    "#Doing the same thing but using __exp__\n",
    "\n",
    "x1 = Value(2.0, label='x1')\n",
    "x2 = Value(0.0, label='x2')\n",
    "\n",
    "w1 = Value(-3.0, label='w1')\n",
    "w2 = Value(1.0, label = 'w2')\n",
    "\n",
    "b = Value(6.7, label='b')\n",
    "\n",
    "x1w1 = x1*w1; x1w1.label='x1w1'\n",
    "x2w2 = x2*w2; x2w2.label='x2w2'\n",
    "x1w1x2w2 = x1w1 + x2w2; x1w1x2w2.label='x1*w1 + x2*w1'\n",
    "n = x1w1x2w2+b; n.label='n'\n",
    "e = (2*n).exp()\n",
    "o= (e-1)/(e+1)\n",
    "o.label='o'\n",
    "o.backward()"
   ]
  },
  {
   "cell_type": "code",
   "execution_count": 6,
   "metadata": {},
   "outputs": [
    {
     "ename": "NameError",
     "evalue": "name 'draw_dot' is not defined",
     "output_type": "error",
     "traceback": [
      "\u001b[1;31m---------------------------------------------------------------------------\u001b[0m",
      "\u001b[1;31mNameError\u001b[0m                                 Traceback (most recent call last)",
      "Cell \u001b[1;32mIn[6], line 1\u001b[0m\n\u001b[1;32m----> 1\u001b[0m \u001b[43mdraw_dot\u001b[49m(o)\n",
      "\u001b[1;31mNameError\u001b[0m: name 'draw_dot' is not defined"
     ]
    }
   ],
   "source": [
    "\n",
    "draw_dot(o)"
   ]
  },
  {
   "cell_type": "code",
   "execution_count": 7,
   "metadata": {},
   "outputs": [
    {
     "data": {
      "text/plain": [
       "[Value(data=2),\n",
       " Value(data=6.7),\n",
       " Value(data=0.0),\n",
       " Value(data=1.0),\n",
       " Value(data=0.0),\n",
       " Value(data=2.0),\n",
       " Value(data=-3.0),\n",
       " Value(data=-6.0),\n",
       " Value(data=-6.0),\n",
       " Value(data=0.7000000000000002),\n",
       " Value(data=1.4000000000000004),\n",
       " Value(data=4.055199966844676),\n",
       " Value(data=-1),\n",
       " Value(data=3.0551999668446763),\n",
       " Value(data=1),\n",
       " Value(data=5.055199966844676),\n",
       " Value(data=0.1978161114414182),\n",
       " Value(data=0.6043677771171637)]"
      ]
     },
     "execution_count": 7,
     "metadata": {},
     "output_type": "execute_result"
    }
   ],
   "source": [
    "topo = []\n",
    "visited = set()\n",
    "\n",
    "def build_topo(v):\n",
    "    if v not in visited:\n",
    "        visited.add(v)\n",
    "        for child in v._prev:\n",
    "            build_topo(child)\n",
    "        topo.append(v)\n",
    "build_topo(o)\n",
    "topo"
   ]
  },
  {
   "cell_type": "code",
   "execution_count": 8,
   "metadata": {},
   "outputs": [],
   "source": [
    "for node in reversed(topo):\n",
    "    node._backward()"
   ]
  },
  {
   "cell_type": "code",
   "execution_count": 9,
   "metadata": {},
   "outputs": [],
   "source": [
    "#We can directly call backward\n",
    "o.backward()"
   ]
  },
  {
   "cell_type": "code",
   "execution_count": 10,
   "metadata": {},
   "outputs": [],
   "source": [
    "o.grad = 1.0"
   ]
  },
  {
   "cell_type": "code",
   "execution_count": 11,
   "metadata": {},
   "outputs": [],
   "source": [
    "o._backward()"
   ]
  },
  {
   "cell_type": "code",
   "execution_count": 12,
   "metadata": {},
   "outputs": [],
   "source": [
    "n._backward()"
   ]
  },
  {
   "cell_type": "code",
   "execution_count": 13,
   "metadata": {},
   "outputs": [],
   "source": [
    "x1w1x2w2._backward()"
   ]
  },
  {
   "cell_type": "code",
   "execution_count": 14,
   "metadata": {},
   "outputs": [],
   "source": [
    "x1w1._backward()\n",
    "x2w2._backward()"
   ]
  },
  {
   "cell_type": "code",
   "execution_count": 15,
   "metadata": {},
   "outputs": [],
   "source": [
    "o._backward()"
   ]
  },
  {
   "cell_type": "markdown",
   "metadata": {},
   "source": [
    "Issue in calculation of gradients due to overwriting when a variable is used more than once\n",
    "\n",
    "Solution : Accumulating those gradients"
   ]
  },
  {
   "cell_type": "code",
   "execution_count": 22,
   "metadata": {},
   "outputs": [
    {
     "data": {
      "image/svg+xml": [
       "<?xml version=\"1.0\" encoding=\"UTF-8\" standalone=\"no\"?>\n",
       "<!DOCTYPE svg PUBLIC \"-//W3C//DTD SVG 1.1//EN\"\n",
       " \"http://www.w3.org/Graphics/SVG/1.1/DTD/svg11.dtd\">\n",
       "<!-- Generated by graphviz version 11.0.0 (20240428.1522)\n",
       " -->\n",
       "<!-- Pages: 1 -->\n",
       "<svg width=\"505pt\" height=\"45pt\"\n",
       " viewBox=\"0.00 0.00 504.50 45.00\" xmlns=\"http://www.w3.org/2000/svg\" xmlns:xlink=\"http://www.w3.org/1999/xlink\">\n",
       "<g id=\"graph0\" class=\"graph\" transform=\"scale(1 1) rotate(0) translate(4 41)\">\n",
       "<polygon fill=\"white\" stroke=\"none\" points=\"-4,4 -4,-41 500.5,-41 500.5,4 -4,4\"/>\n",
       "<!-- 1857458794816 -->\n",
       "<g id=\"node1\" class=\"node\">\n",
       "<title>1857458794816</title>\n",
       "<polygon fill=\"none\" stroke=\"black\" points=\"310.5,-0.5 310.5,-36.5 496.5,-36.5 496.5,-0.5 310.5,-0.5\"/>\n",
       "<text text-anchor=\"middle\" x=\"322.25\" y=\"-13.2\" font-family=\"Times New Roman,serif\" font-size=\"14.00\">b</text>\n",
       "<polyline fill=\"none\" stroke=\"black\" points=\"334,-0.75 334,-36.5\"/>\n",
       "<text text-anchor=\"middle\" x=\"374.25\" y=\"-13.2\" font-family=\"Times New Roman,serif\" font-size=\"14.00\">data 6.0000</text>\n",
       "<polyline fill=\"none\" stroke=\"black\" points=\"414.5,-0.75 414.5,-36.5\"/>\n",
       "<text text-anchor=\"middle\" x=\"455.5\" y=\"-13.2\" font-family=\"Times New Roman,serif\" font-size=\"14.00\">grad 1.0000</text>\n",
       "</g>\n",
       "<!-- 1857458794816+ -->\n",
       "<g id=\"node2\" class=\"node\">\n",
       "<title>1857458794816+</title>\n",
       "<ellipse fill=\"none\" stroke=\"black\" cx=\"247.5\" cy=\"-18.5\" rx=\"27\" ry=\"18\"/>\n",
       "<text text-anchor=\"middle\" x=\"247.5\" y=\"-13.07\" font-family=\"Times New Roman,serif\" font-size=\"14.00\">+</text>\n",
       "</g>\n",
       "<!-- 1857458794816+&#45;&gt;1857458794816 -->\n",
       "<g id=\"edge1\" class=\"edge\">\n",
       "<title>1857458794816+&#45;&gt;1857458794816</title>\n",
       "<path fill=\"none\" stroke=\"black\" d=\"M274.97,-18.5C282.11,-18.5 290.28,-18.5 298.96,-18.5\"/>\n",
       "<polygon fill=\"black\" stroke=\"black\" points=\"298.69,-22 308.69,-18.5 298.69,-15 298.69,-22\"/>\n",
       "</g>\n",
       "<!-- 1857448070512 -->\n",
       "<g id=\"node3\" class=\"node\">\n",
       "<title>1857448070512</title>\n",
       "<polygon fill=\"none\" stroke=\"black\" points=\"0,-0.5 0,-36.5 184.5,-36.5 184.5,-0.5 0,-0.5\"/>\n",
       "<text text-anchor=\"middle\" x=\"11\" y=\"-13.2\" font-family=\"Times New Roman,serif\" font-size=\"14.00\">a</text>\n",
       "<polyline fill=\"none\" stroke=\"black\" points=\"22,-0.75 22,-36.5\"/>\n",
       "<text text-anchor=\"middle\" x=\"62.25\" y=\"-13.2\" font-family=\"Times New Roman,serif\" font-size=\"14.00\">data 3.0000</text>\n",
       "<polyline fill=\"none\" stroke=\"black\" points=\"102.5,-0.75 102.5,-36.5\"/>\n",
       "<text text-anchor=\"middle\" x=\"143.5\" y=\"-13.2\" font-family=\"Times New Roman,serif\" font-size=\"14.00\">grad 2.0000</text>\n",
       "</g>\n",
       "<!-- 1857448070512&#45;&gt;1857458794816+ -->\n",
       "<g id=\"edge2\" class=\"edge\">\n",
       "<title>1857448070512&#45;&gt;1857458794816+</title>\n",
       "<path fill=\"none\" stroke=\"black\" d=\"M184.61,-18.5C193.01,-18.5 201.16,-18.5 208.64,-18.5\"/>\n",
       "<polygon fill=\"black\" stroke=\"black\" points=\"208.64,-22 218.64,-18.5 208.64,-15 208.64,-22\"/>\n",
       "</g>\n",
       "</g>\n",
       "</svg>\n"
      ],
      "text/plain": [
       "<graphviz.graphs.Digraph at 0x1b07935e1b0>"
      ]
     },
     "execution_count": 22,
     "metadata": {},
     "output_type": "execute_result"
    }
   ],
   "source": [
    "a = Value(3.0, label='a')\n",
    "b = a + a   ; b.label = 'b'\n",
    "b.backward()\n",
    "draw_dot(b)"
   ]
  },
  {
   "cell_type": "code",
   "execution_count": 7,
   "metadata": {},
   "outputs": [
    {
     "ename": "NameError",
     "evalue": "name 'Value' is not defined",
     "output_type": "error",
     "traceback": [
      "\u001b[1;31m---------------------------------------------------------------------------\u001b[0m",
      "\u001b[1;31mNameError\u001b[0m                                 Traceback (most recent call last)",
      "Cell \u001b[1;32mIn[7], line 1\u001b[0m\n\u001b[1;32m----> 1\u001b[0m a \u001b[38;5;241m=\u001b[39m \u001b[43mValue\u001b[49m(\u001b[38;5;241m-\u001b[39m\u001b[38;5;241m2.0\u001b[39m, label\u001b[38;5;241m=\u001b[39m\u001b[38;5;124m'\u001b[39m\u001b[38;5;124ma\u001b[39m\u001b[38;5;124m'\u001b[39m)\n\u001b[0;32m      2\u001b[0m b \u001b[38;5;241m=\u001b[39m Value(\u001b[38;5;241m3.0\u001b[39m, label\u001b[38;5;241m=\u001b[39m\u001b[38;5;124m'\u001b[39m\u001b[38;5;124mb\u001b[39m\u001b[38;5;124m'\u001b[39m)\n\u001b[0;32m      3\u001b[0m d \u001b[38;5;241m=\u001b[39m a \u001b[38;5;241m*\u001b[39m b    ; d\u001b[38;5;241m.\u001b[39mlabel \u001b[38;5;241m=\u001b[39m \u001b[38;5;124m'\u001b[39m\u001b[38;5;124md\u001b[39m\u001b[38;5;124m'\u001b[39m\n",
      "\u001b[1;31mNameError\u001b[0m: name 'Value' is not defined"
     ]
    }
   ],
   "source": [
    "a = Value(-2.0, label='a')\n",
    "b = Value(3.0, label='b')\n",
    "d = a * b    ; d.label = 'd'\n",
    "e = a + b    ; e.label = 'e'\n",
    "f = d * e    ; f.label = 'f'\n",
    "\n",
    "f.backward()\n",
    "\n",
    "draw_dot(f)"
   ]
  },
  {
   "cell_type": "markdown",
   "metadata": {},
   "source": [
    "Pytorch implementation"
   ]
  },
  {
   "cell_type": "code",
   "execution_count": 49,
   "metadata": {},
   "outputs": [
    {
     "name": "stdout",
     "output_type": "stream",
     "text": [
      "Defaulting to user installation because normal site-packages is not writeable\n",
      "Collecting torch\n",
      "  Downloading torch-2.5.1-cp312-cp312-win_amd64.whl.metadata (28 kB)\n",
      "Collecting filelock (from torch)\n",
      "  Using cached filelock-3.16.1-py3-none-any.whl.metadata (2.9 kB)\n",
      "Collecting typing-extensions>=4.8.0 (from torch)\n",
      "  Using cached typing_extensions-4.12.2-py3-none-any.whl.metadata (3.0 kB)\n",
      "Collecting networkx (from torch)\n",
      "  Using cached networkx-3.4.2-py3-none-any.whl.metadata (6.3 kB)\n",
      "Requirement already satisfied: jinja2 in c:\\users\\krish\\appdata\\local\\packages\\pythonsoftwarefoundation.python.3.12_qbz5n2kfra8p0\\localcache\\local-packages\\python312\\site-packages (from torch) (3.1.4)\n",
      "Collecting fsspec (from torch)\n",
      "  Using cached fsspec-2024.10.0-py3-none-any.whl.metadata (11 kB)\n",
      "Collecting setuptools (from torch)\n",
      "  Using cached setuptools-75.6.0-py3-none-any.whl.metadata (6.7 kB)\n",
      "Collecting sympy==1.13.1 (from torch)\n",
      "  Using cached sympy-1.13.1-py3-none-any.whl.metadata (12 kB)\n",
      "Collecting mpmath<1.4,>=1.1.0 (from sympy==1.13.1->torch)\n",
      "  Using cached mpmath-1.3.0-py3-none-any.whl.metadata (8.6 kB)\n",
      "Requirement already satisfied: MarkupSafe>=2.0 in c:\\users\\krish\\appdata\\local\\packages\\pythonsoftwarefoundation.python.3.12_qbz5n2kfra8p0\\localcache\\local-packages\\python312\\site-packages (from jinja2->torch) (3.0.2)\n",
      "Downloading torch-2.5.1-cp312-cp312-win_amd64.whl (203.0 MB)\n",
      "   ---------------------------------------- 0.0/203.0 MB ? eta -:--:--\n",
      "   ---------------------------------------- 0.8/203.0 MB 5.6 MB/s eta 0:00:37\n",
      "   ---------------------------------------- 1.8/203.0 MB 5.6 MB/s eta 0:00:36\n",
      "    --------------------------------------- 3.4/203.0 MB 6.1 MB/s eta 0:00:33\n",
      "    --------------------------------------- 4.2/203.0 MB 5.5 MB/s eta 0:00:37\n",
      "   - -------------------------------------- 5.5/203.0 MB 5.8 MB/s eta 0:00:35\n",
      "   - -------------------------------------- 6.8/203.0 MB 5.9 MB/s eta 0:00:34\n",
      "   - -------------------------------------- 8.1/203.0 MB 5.9 MB/s eta 0:00:34\n",
      "   - -------------------------------------- 9.4/203.0 MB 6.0 MB/s eta 0:00:33\n",
      "   -- ------------------------------------- 11.0/203.0 MB 6.1 MB/s eta 0:00:32\n",
      "   -- ------------------------------------- 12.3/203.0 MB 6.1 MB/s eta 0:00:32\n",
      "   -- ------------------------------------- 13.6/203.0 MB 6.2 MB/s eta 0:00:31\n",
      "   -- ------------------------------------- 14.9/203.0 MB 6.1 MB/s eta 0:00:31\n",
      "   --- ------------------------------------ 16.3/203.0 MB 6.1 MB/s eta 0:00:31\n",
      "   --- ------------------------------------ 17.3/203.0 MB 6.1 MB/s eta 0:00:31\n",
      "   --- ------------------------------------ 18.6/203.0 MB 6.1 MB/s eta 0:00:31\n",
      "   --- ------------------------------------ 19.9/203.0 MB 6.1 MB/s eta 0:00:30\n",
      "   ---- ----------------------------------- 21.5/203.0 MB 6.1 MB/s eta 0:00:30\n",
      "   ---- ----------------------------------- 22.5/203.0 MB 6.1 MB/s eta 0:00:30\n",
      "   ---- ----------------------------------- 23.9/203.0 MB 6.1 MB/s eta 0:00:30\n",
      "   ---- ----------------------------------- 24.9/203.0 MB 6.1 MB/s eta 0:00:30\n",
      "   ----- ---------------------------------- 26.0/203.0 MB 6.1 MB/s eta 0:00:30\n",
      "   ----- ---------------------------------- 27.5/203.0 MB 6.1 MB/s eta 0:00:29\n",
      "   ----- ---------------------------------- 28.8/203.0 MB 6.1 MB/s eta 0:00:29\n",
      "   ----- ---------------------------------- 30.1/203.0 MB 6.1 MB/s eta 0:00:29\n",
      "   ------ --------------------------------- 31.5/203.0 MB 6.1 MB/s eta 0:00:29\n",
      "   ------ --------------------------------- 33.0/203.0 MB 6.1 MB/s eta 0:00:28\n",
      "   ------ --------------------------------- 34.1/203.0 MB 6.1 MB/s eta 0:00:28\n",
      "   ------ --------------------------------- 35.4/203.0 MB 6.1 MB/s eta 0:00:28\n",
      "   ------- -------------------------------- 37.0/203.0 MB 6.1 MB/s eta 0:00:28\n",
      "   ------- -------------------------------- 38.3/203.0 MB 6.2 MB/s eta 0:00:27\n",
      "   ------- -------------------------------- 39.8/203.0 MB 6.2 MB/s eta 0:00:27\n",
      "   -------- ------------------------------- 41.2/203.0 MB 6.2 MB/s eta 0:00:27\n",
      "   -------- ------------------------------- 42.5/203.0 MB 6.2 MB/s eta 0:00:26\n",
      "   -------- ------------------------------- 43.8/203.0 MB 6.2 MB/s eta 0:00:26\n",
      "   -------- ------------------------------- 45.1/203.0 MB 6.2 MB/s eta 0:00:26\n",
      "   --------- ------------------------------ 46.7/203.0 MB 6.2 MB/s eta 0:00:26\n",
      "   --------- ------------------------------ 48.0/203.0 MB 6.2 MB/s eta 0:00:25\n",
      "   --------- ------------------------------ 49.5/203.0 MB 6.3 MB/s eta 0:00:25\n",
      "   ---------- ----------------------------- 51.1/203.0 MB 6.3 MB/s eta 0:00:25\n",
      "   ---------- ----------------------------- 52.4/203.0 MB 6.3 MB/s eta 0:00:24\n",
      "   ---------- ----------------------------- 53.5/203.0 MB 6.2 MB/s eta 0:00:24\n",
      "   ---------- ----------------------------- 55.1/203.0 MB 6.3 MB/s eta 0:00:24\n",
      "   ----------- ---------------------------- 56.1/203.0 MB 6.3 MB/s eta 0:00:24\n",
      "   ----------- ---------------------------- 57.4/203.0 MB 6.3 MB/s eta 0:00:24\n",
      "   ----------- ---------------------------- 58.7/203.0 MB 6.2 MB/s eta 0:00:24\n",
      "   ----------- ---------------------------- 59.8/203.0 MB 6.2 MB/s eta 0:00:24\n",
      "   ------------ --------------------------- 61.1/203.0 MB 6.2 MB/s eta 0:00:23\n",
      "   ------------ --------------------------- 62.4/203.0 MB 6.2 MB/s eta 0:00:23\n",
      "   ------------ --------------------------- 63.7/203.0 MB 6.2 MB/s eta 0:00:23\n",
      "   ------------ --------------------------- 65.0/203.0 MB 6.2 MB/s eta 0:00:23\n",
      "   ------------- -------------------------- 66.1/203.0 MB 6.2 MB/s eta 0:00:23\n",
      "   ------------- -------------------------- 67.1/203.0 MB 6.2 MB/s eta 0:00:22\n",
      "   ------------- -------------------------- 68.7/203.0 MB 6.2 MB/s eta 0:00:22\n",
      "   ------------- -------------------------- 69.7/203.0 MB 6.2 MB/s eta 0:00:22\n",
      "   -------------- ------------------------- 71.3/203.0 MB 6.2 MB/s eta 0:00:22\n",
      "   -------------- ------------------------- 72.6/203.0 MB 6.2 MB/s eta 0:00:22\n",
      "   -------------- ------------------------- 73.7/203.0 MB 6.2 MB/s eta 0:00:21\n",
      "   -------------- ------------------------- 74.7/203.0 MB 6.2 MB/s eta 0:00:21\n",
      "   --------------- ------------------------ 76.3/203.0 MB 6.2 MB/s eta 0:00:21\n",
      "   --------------- ------------------------ 77.6/203.0 MB 6.2 MB/s eta 0:00:21\n",
      "   --------------- ------------------------ 78.9/203.0 MB 6.2 MB/s eta 0:00:21\n",
      "   --------------- ------------------------ 80.5/203.0 MB 6.2 MB/s eta 0:00:20\n",
      "   ---------------- ----------------------- 81.5/203.0 MB 6.2 MB/s eta 0:00:20\n",
      "   ---------------- ----------------------- 82.8/203.0 MB 6.2 MB/s eta 0:00:20\n",
      "   ---------------- ----------------------- 84.1/203.0 MB 6.2 MB/s eta 0:00:20\n",
      "   ---------------- ----------------------- 85.7/203.0 MB 6.2 MB/s eta 0:00:19\n",
      "   ----------------- ---------------------- 87.0/203.0 MB 6.2 MB/s eta 0:00:19\n",
      "   ----------------- ---------------------- 88.3/203.0 MB 6.2 MB/s eta 0:00:19\n",
      "   ----------------- ---------------------- 89.7/203.0 MB 6.2 MB/s eta 0:00:19\n",
      "   ----------------- ---------------------- 90.7/203.0 MB 6.2 MB/s eta 0:00:19\n",
      "   ------------------ --------------------- 92.0/203.0 MB 6.2 MB/s eta 0:00:18\n",
      "   ------------------ --------------------- 93.3/203.0 MB 6.2 MB/s eta 0:00:18\n",
      "   ------------------ --------------------- 94.9/203.0 MB 6.2 MB/s eta 0:00:18\n",
      "   ------------------- -------------------- 96.5/203.0 MB 6.2 MB/s eta 0:00:18\n",
      "   ------------------- -------------------- 97.5/203.0 MB 6.2 MB/s eta 0:00:17\n",
      "   ------------------- -------------------- 98.8/203.0 MB 6.2 MB/s eta 0:00:17\n",
      "   ------------------- -------------------- 100.4/203.0 MB 6.2 MB/s eta 0:00:17\n",
      "   -------------------- ------------------- 101.7/203.0 MB 6.2 MB/s eta 0:00:17\n",
      "   -------------------- ------------------- 103.3/203.0 MB 6.2 MB/s eta 0:00:16\n",
      "   -------------------- ------------------- 104.6/203.0 MB 6.3 MB/s eta 0:00:16\n",
      "   -------------------- ------------------- 105.9/203.0 MB 6.2 MB/s eta 0:00:16\n",
      "   --------------------- ------------------ 107.0/203.0 MB 6.2 MB/s eta 0:00:16\n",
      "   --------------------- ------------------ 108.3/203.0 MB 6.2 MB/s eta 0:00:16\n",
      "   --------------------- ------------------ 109.6/203.0 MB 6.2 MB/s eta 0:00:16\n",
      "   --------------------- ------------------ 110.9/203.0 MB 6.2 MB/s eta 0:00:15\n",
      "   ---------------------- ----------------- 112.5/203.0 MB 6.2 MB/s eta 0:00:15\n",
      "   ---------------------- ----------------- 113.8/203.0 MB 6.3 MB/s eta 0:00:15\n",
      "   ---------------------- ----------------- 115.1/203.0 MB 6.2 MB/s eta 0:00:15\n",
      "   ---------------------- ----------------- 116.7/203.0 MB 6.3 MB/s eta 0:00:14\n",
      "   ----------------------- ---------------- 117.7/203.0 MB 6.3 MB/s eta 0:00:14\n",
      "   ----------------------- ---------------- 119.3/203.0 MB 6.3 MB/s eta 0:00:14\n",
      "   ----------------------- ---------------- 120.6/203.0 MB 6.3 MB/s eta 0:00:14\n",
      "   ----------------------- ---------------- 121.6/203.0 MB 6.3 MB/s eta 0:00:14\n",
      "   ------------------------ --------------- 122.9/203.0 MB 6.3 MB/s eta 0:00:13\n",
      "   ------------------------ --------------- 124.5/203.0 MB 6.3 MB/s eta 0:00:13\n",
      "   ------------------------ --------------- 125.6/203.0 MB 6.3 MB/s eta 0:00:13\n",
      "   ------------------------- -------------- 127.1/203.0 MB 6.3 MB/s eta 0:00:13\n",
      "   ------------------------- -------------- 128.2/203.0 MB 6.3 MB/s eta 0:00:12\n",
      "   ------------------------- -------------- 129.8/203.0 MB 6.3 MB/s eta 0:00:12\n",
      "   ------------------------- -------------- 131.1/203.0 MB 6.3 MB/s eta 0:00:12\n",
      "   -------------------------- ------------- 132.6/203.0 MB 6.3 MB/s eta 0:00:12\n",
      "   -------------------------- ------------- 133.7/203.0 MB 6.3 MB/s eta 0:00:12\n",
      "   -------------------------- ------------- 135.0/203.0 MB 6.3 MB/s eta 0:00:11\n",
      "   -------------------------- ------------- 136.3/203.0 MB 6.3 MB/s eta 0:00:11\n",
      "   --------------------------- ------------ 137.6/203.0 MB 6.3 MB/s eta 0:00:11\n",
      "   --------------------------- ------------ 139.2/203.0 MB 6.3 MB/s eta 0:00:11\n",
      "   --------------------------- ------------ 140.5/203.0 MB 6.3 MB/s eta 0:00:10\n",
      "   --------------------------- ------------ 141.6/203.0 MB 6.3 MB/s eta 0:00:10\n",
      "   ---------------------------- ----------- 143.1/203.0 MB 6.3 MB/s eta 0:00:10\n",
      "   ---------------------------- ----------- 144.7/203.0 MB 6.3 MB/s eta 0:00:10\n",
      "   ---------------------------- ----------- 145.8/203.0 MB 6.3 MB/s eta 0:00:10\n",
      "   ---------------------------- ----------- 147.1/203.0 MB 6.3 MB/s eta 0:00:09\n",
      "   ----------------------------- ---------- 148.1/203.0 MB 6.3 MB/s eta 0:00:09\n",
      "   ----------------------------- ---------- 149.4/203.0 MB 6.3 MB/s eta 0:00:09\n",
      "   ----------------------------- ---------- 150.7/203.0 MB 6.3 MB/s eta 0:00:09\n",
      "   ------------------------------ --------- 152.3/203.0 MB 6.3 MB/s eta 0:00:09\n",
      "   ------------------------------ --------- 153.9/203.0 MB 6.3 MB/s eta 0:00:08\n",
      "   ------------------------------ --------- 155.2/203.0 MB 6.3 MB/s eta 0:00:08\n",
      "   ------------------------------ --------- 156.5/203.0 MB 6.3 MB/s eta 0:00:08\n",
      "   ------------------------------- -------- 157.8/203.0 MB 6.3 MB/s eta 0:00:08\n",
      "   ------------------------------- -------- 159.1/203.0 MB 6.3 MB/s eta 0:00:07\n",
      "   ------------------------------- -------- 160.7/203.0 MB 6.3 MB/s eta 0:00:07\n",
      "   ------------------------------- -------- 162.3/203.0 MB 6.3 MB/s eta 0:00:07\n",
      "   -------------------------------- ------- 163.6/203.0 MB 6.3 MB/s eta 0:00:07\n",
      "   -------------------------------- ------- 164.9/203.0 MB 6.3 MB/s eta 0:00:07\n",
      "   -------------------------------- ------- 166.2/203.0 MB 6.3 MB/s eta 0:00:06\n",
      "   --------------------------------- ------ 167.8/203.0 MB 6.3 MB/s eta 0:00:06\n",
      "   --------------------------------- ------ 169.1/203.0 MB 6.3 MB/s eta 0:00:06\n",
      "   --------------------------------- ------ 170.7/203.0 MB 6.3 MB/s eta 0:00:06\n",
      "   --------------------------------- ------ 172.0/203.0 MB 6.3 MB/s eta 0:00:05\n",
      "   ---------------------------------- ----- 173.0/203.0 MB 6.3 MB/s eta 0:00:05\n",
      "   ---------------------------------- ----- 174.3/203.0 MB 6.3 MB/s eta 0:00:05\n",
      "   ---------------------------------- ----- 175.6/203.0 MB 6.3 MB/s eta 0:00:05\n",
      "   ---------------------------------- ----- 176.9/203.0 MB 6.3 MB/s eta 0:00:05\n",
      "   ----------------------------------- ---- 178.5/203.0 MB 6.3 MB/s eta 0:00:04\n",
      "   ----------------------------------- ---- 179.8/203.0 MB 6.3 MB/s eta 0:00:04\n",
      "   ----------------------------------- ---- 181.4/203.0 MB 6.3 MB/s eta 0:00:04\n",
      "   ----------------------------------- ---- 182.7/203.0 MB 6.3 MB/s eta 0:00:04\n",
      "   ------------------------------------ --- 183.8/203.0 MB 6.3 MB/s eta 0:00:04\n",
      "   ------------------------------------ --- 185.3/203.0 MB 6.3 MB/s eta 0:00:03\n",
      "   ------------------------------------ --- 186.9/203.0 MB 6.3 MB/s eta 0:00:03\n",
      "   ------------------------------------- -- 188.0/203.0 MB 6.3 MB/s eta 0:00:03\n",
      "   ------------------------------------- -- 189.3/203.0 MB 6.3 MB/s eta 0:00:03\n",
      "   ------------------------------------- -- 190.8/203.0 MB 6.3 MB/s eta 0:00:02\n",
      "   ------------------------------------- -- 192.4/203.0 MB 6.3 MB/s eta 0:00:02\n",
      "   -------------------------------------- - 193.7/203.0 MB 6.3 MB/s eta 0:00:02\n",
      "   -------------------------------------- - 195.3/203.0 MB 6.4 MB/s eta 0:00:02\n",
      "   -------------------------------------- - 196.6/203.0 MB 6.4 MB/s eta 0:00:02\n",
      "   ---------------------------------------  198.2/203.0 MB 6.4 MB/s eta 0:00:01\n",
      "   ---------------------------------------  199.2/203.0 MB 6.4 MB/s eta 0:00:01\n",
      "   ---------------------------------------  200.8/203.0 MB 6.4 MB/s eta 0:00:01\n",
      "   ---------------------------------------  202.1/203.0 MB 6.4 MB/s eta 0:00:01\n",
      "   ---------------------------------------  202.9/203.0 MB 6.4 MB/s eta 0:00:01\n",
      "   ---------------------------------------  202.9/203.0 MB 6.4 MB/s eta 0:00:01\n",
      "   ---------------------------------------- 203.0/203.0 MB 6.3 MB/s eta 0:00:00\n",
      "Using cached sympy-1.13.1-py3-none-any.whl (6.2 MB)\n",
      "Using cached typing_extensions-4.12.2-py3-none-any.whl (37 kB)\n",
      "Using cached filelock-3.16.1-py3-none-any.whl (16 kB)\n",
      "Using cached fsspec-2024.10.0-py3-none-any.whl (179 kB)\n",
      "Using cached networkx-3.4.2-py3-none-any.whl (1.7 MB)\n",
      "Using cached setuptools-75.6.0-py3-none-any.whl (1.2 MB)\n",
      "Using cached mpmath-1.3.0-py3-none-any.whl (536 kB)\n",
      "Installing collected packages: mpmath, typing-extensions, sympy, setuptools, networkx, fsspec, filelock, torch\n",
      "Successfully installed filelock-3.16.1 fsspec-2024.10.0 mpmath-1.3.0 networkx-3.4.2 setuptools-75.6.0 sympy-1.13.1 torch-2.5.1 typing-extensions-4.12.2\n",
      "Note: you may need to restart the kernel to use updated packages.\n"
     ]
    },
    {
     "name": "stderr",
     "output_type": "stream",
     "text": [
      "\n",
      "[notice] A new release of pip is available: 24.2 -> 24.3.1\n",
      "[notice] To update, run: C:\\Users\\krish\\AppData\\Local\\Microsoft\\WindowsApps\\PythonSoftwareFoundation.Python.3.12_qbz5n2kfra8p0\\python.exe -m pip install --upgrade pip\n"
     ]
    }
   ],
   "source": [
    "pip install torch"
   ]
  },
  {
   "cell_type": "code",
   "execution_count": 37,
   "metadata": {},
   "outputs": [],
   "source": [
    "import torch"
   ]
  },
  {
   "cell_type": "code",
   "execution_count": 38,
   "metadata": {},
   "outputs": [
    {
     "name": "stdout",
     "output_type": "stream",
     "text": [
      "0.7071066904050358\n",
      "---\n",
      "x2 0.5000001283844369\n",
      "w2 0.0\n",
      "x1 -1.5000003851533106\n",
      "w1 1.0000002567688737\n"
     ]
    }
   ],
   "source": [
    "x1 = torch.Tensor([2.0]).double()                ; x1.requires_grad = True\n",
    "x2 = torch.Tensor([0.0]).double()                ; x2.requires_grad = True\n",
    "w1 = torch.Tensor([-3.0]).double()               ; w1.requires_grad = True\n",
    "w2 = torch.Tensor([1.0]).double()                ; w2.requires_grad = True\n",
    "b = torch.Tensor([6.8813735870195432]).double()  ; b.requires_grad = True\n",
    "n = x1*w1 + x2*w2 + b\n",
    "o = torch.tanh(n)\n",
    "\n",
    "print(o.data.item())\n",
    "o.backward()\n",
    "\n",
    "print('---')\n",
    "print('x2', x2.grad.item())\n",
    "print('w2', w2.grad.item())\n",
    "print('x1', x1.grad.item())\n",
    "print('w1', w1.grad.item())\n",
    "\n"
   ]
  },
  {
   "cell_type": "code",
   "execution_count": 48,
   "metadata": {},
   "outputs": [
    {
     "data": {
      "text/plain": [
       "Value(data=-0.819181097545853)"
      ]
     },
     "execution_count": 48,
     "metadata": {},
     "output_type": "execute_result"
    }
   ],
   "source": [
    "import random\n",
    "class Neuron:\n",
    "\n",
    "    # nin - no of input connections\n",
    "    def __init__(self,nin):\n",
    "        self.w = [Value(random.uniform(-1,1)) for _ in range(nin)]  #random initilaization of weights\n",
    "        self.b = Value(random.uniform(-1,1)) #Random bias\n",
    "\n",
    "    #implementing a forward pass of neuron\n",
    "    def __call__(self,x):\n",
    "        act = sum((wi*xi for wi,xi in zip(self.w,x)),self.b)\n",
    "        out=act.tanh()\n",
    "        return out\n",
    "    \n",
    "    def parameters(self):\n",
    "        return self.w + [self.b]\n",
    "\n",
    "class Layer:\n",
    "\n",
    "    #nin - no of inputs for each neuron\n",
    "    #nout - no of neurons in a layer\n",
    "    def __init__(self,nin,nout):\n",
    "        self.neurons = [Neuron(nin) for _ in range(nout)]\n",
    "    \n",
    "    #forward pass of a layer\n",
    "    def __call__(self,x):\n",
    "        outs = [n(x) for n in self.neurons]\n",
    "        return outs[0] if len(outs) == 1 else outs\n",
    "    \n",
    "    def parameters(self):\n",
    "        return [p for neuron in self.neurons for p in neuron.parameters()]\n",
    "    \n",
    "        '''\n",
    "        params = []\n",
    "        for neuron in self.neurons:\n",
    "            ps = neurons.parameters()\n",
    "            params.extend(ps)\n",
    "        return params\n",
    "        '''\n",
    "\n",
    "class MLP:\n",
    "\n",
    "    #nin - no of input features\n",
    "    #nouts - list representing no of neurons in each subsequent layer\n",
    "    def __init__(self,nin,nouts):\n",
    "        sz = [nin] + nouts\n",
    "        self.layers = [Layer(sz[i], sz[i+1]) for i in range(len(nouts))]\n",
    "\n",
    "    def __call__(self, x):\n",
    "        for layer in self.layers:\n",
    "            x = layer(x)\n",
    "        return x\n",
    "    \n",
    "    def parameters(self):\n",
    "        return [p for layer in self.layers for p in layer.parameters()]\n",
    "\n",
    "\n",
    "    \n",
    "x = [2.0,3.0, -1.0]\n",
    "n = MLP(3, [4, 4, 1])\n",
    "n(x)"
   ]
  },
  {
   "cell_type": "code",
   "execution_count": 49,
   "metadata": {},
   "outputs": [
    {
     "data": {
      "text/plain": [
       "[Value(data=-0.5309891008921648),\n",
       " Value(data=0.1645534968499136),\n",
       " Value(data=-0.7560606288514709),\n",
       " Value(data=-0.6899432621596875),\n",
       " Value(data=-0.14228118449953397),\n",
       " Value(data=-0.22642137191003608),\n",
       " Value(data=0.666126326272718),\n",
       " Value(data=0.6109013644199064),\n",
       " Value(data=0.45728734991597864),\n",
       " Value(data=-0.5361412577405009),\n",
       " Value(data=-0.5015973652403605),\n",
       " Value(data=-0.8728857357483961),\n",
       " Value(data=-0.9532553671134565),\n",
       " Value(data=0.9377112602545541),\n",
       " Value(data=-0.6785592201495403),\n",
       " Value(data=0.27708557161457503),\n",
       " Value(data=0.6859646278457994),\n",
       " Value(data=0.8011041337210285),\n",
       " Value(data=0.5291686918794019),\n",
       " Value(data=0.5582321291510166),\n",
       " Value(data=0.5573187385864979),\n",
       " Value(data=-0.9636362975452464),\n",
       " Value(data=-0.852858201058224),\n",
       " Value(data=-0.19540647023020918),\n",
       " Value(data=0.8974683263509384),\n",
       " Value(data=0.7610820910561924),\n",
       " Value(data=-0.5651155690548681),\n",
       " Value(data=-0.15160912396883242),\n",
       " Value(data=-0.7272685522052278),\n",
       " Value(data=0.10054143262649862),\n",
       " Value(data=0.08076118167276314),\n",
       " Value(data=0.45204114995598754),\n",
       " Value(data=-0.49093387952521916),\n",
       " Value(data=0.6172173074042573),\n",
       " Value(data=0.6678746447052619),\n",
       " Value(data=-0.6988271836380855),\n",
       " Value(data=0.4056411638240458),\n",
       " Value(data=-0.6523519250538348),\n",
       " Value(data=-0.015933246408922797),\n",
       " Value(data=-0.9587082876400905),\n",
       " Value(data=-0.7373616101507638)]"
      ]
     },
     "execution_count": 49,
     "metadata": {},
     "output_type": "execute_result"
    }
   ],
   "source": [
    "n.parameters()"
   ]
  },
  {
   "cell_type": "code",
   "execution_count": 54,
   "metadata": {},
   "outputs": [],
   "source": [
    "xs = [\n",
    "  [2.0, 3.0, -1.0],\n",
    "  [3.0, -1.0, 0.5],\n",
    "  [0.5, 1.0, 1.0],\n",
    "  [1.0, 1.0, -1.0],\n",
    "]\n",
    "ys = [1.0, -1.0, -1.0, 1.0] # desired targets\n"
   ]
  },
  {
   "cell_type": "code",
   "execution_count": 51,
   "metadata": {},
   "outputs": [
    {
     "data": {
      "text/plain": [
       "Value(data=8.017378724179062)"
      ]
     },
     "execution_count": 51,
     "metadata": {},
     "output_type": "execute_result"
    }
   ],
   "source": [
    "yp = [n(x) for x in xs]\n",
    "loss=0.0\n",
    "for ygt,ypred in zip(ys,yp):\n",
    "    loss = loss + (ypred-ygt)**2 \n",
    "loss"
   ]
  },
  {
   "cell_type": "code",
   "execution_count": 43,
   "metadata": {},
   "outputs": [],
   "source": [
    "loss.backward()"
   ]
  },
  {
   "cell_type": "code",
   "execution_count": 44,
   "metadata": {},
   "outputs": [
    {
     "data": {
      "text/plain": [
       "-0.043682418200680084"
      ]
     },
     "execution_count": 44,
     "metadata": {},
     "output_type": "execute_result"
    }
   ],
   "source": [
    "n.layers[1].neurons[1].w[0].grad"
   ]
  },
  {
   "cell_type": "code",
   "execution_count": 45,
   "metadata": {},
   "outputs": [
    {
     "data": {
      "text/plain": [
       "-0.6495063816752131"
      ]
     },
     "execution_count": 45,
     "metadata": {},
     "output_type": "execute_result"
    }
   ],
   "source": [
    "n.layers[1].neurons[1].w[0].data"
   ]
  },
  {
   "cell_type": "markdown",
   "metadata": {},
   "source": [
    "We noticed that this particular neuron of this particular layer is having negative gradient wrt to the loss, which means increasing this will be a good choice to minimize the loss "
   ]
  },
  {
   "cell_type": "code",
   "execution_count": 46,
   "metadata": {},
   "outputs": [
    {
     "ename": "TypeError",
     "evalue": "'NoneType' object is not iterable",
     "output_type": "error",
     "traceback": [
      "\u001b[1;31m---------------------------------------------------------------------------\u001b[0m",
      "\u001b[1;31mTypeError\u001b[0m                                 Traceback (most recent call last)",
      "Cell \u001b[1;32mIn[46], line 1\u001b[0m\n\u001b[1;32m----> 1\u001b[0m \u001b[38;5;28;01mfor\u001b[39;00m parameter \u001b[38;5;129;01min\u001b[39;00m n\u001b[38;5;241m.\u001b[39mparameters():\n\u001b[0;32m      2\u001b[0m     parameter \u001b[38;5;241m+\u001b[39m\u001b[38;5;241m=\u001b[39m \u001b[38;5;241m-\u001b[39m\u001b[38;5;241m0.01\u001b[39m \u001b[38;5;241m*\u001b[39m parameter\u001b[38;5;241m.\u001b[39mgrad\n",
      "\u001b[1;31mTypeError\u001b[0m: 'NoneType' object is not iterable"
     ]
    }
   ],
   "source": [
    "for parameter in n.parameters():\n",
    "    parameter += -0.01 * parameter.grad"
   ]
  },
  {
   "cell_type": "code",
   "execution_count": null,
   "metadata": {},
   "outputs": [
    {
     "name": "stdout",
     "output_type": "stream",
     "text": [
      "0 0.022072639691101344\n",
      "1 0.021967809572141075\n",
      "2 0.02186390857955147\n",
      "3 0.02176092479431238\n",
      "4 0.02165884649655738\n",
      "5 0.021557662161484588\n",
      "6 0.021457360455367065\n",
      "7 0.021357930231659834\n",
      "8 0.021259360527200868\n",
      "9 0.021161640558503052\n",
      "10 0.02106475971813566\n",
      "11 0.020968707571191212\n",
      "12 0.020873473851837205\n",
      "13 0.020779048459948594\n",
      "14 0.02068542145782043\n",
      "15 0.02059258306695746\n",
      "16 0.020500523664938732\n",
      "17 0.020409233782355596\n",
      "18 0.020318704099820655\n",
      "19 0.020228925445046106\n"
     ]
    }
   ],
   "source": [
    "\n",
    "for k in range(20):\n",
    "  \n",
    "  # forward pass\n",
    "  ypred = [n(x) for x in xs]\n",
    "  loss = sum((yout - ygt)**2 for ygt, yout in zip(ys, ypred))\n",
    "  \n",
    "  # backward pass\n",
    "  for p in n.parameters():\n",
    "    p.grad = 0.0\n",
    "  loss.backward()\n",
    "  \n",
    "  # update\n",
    "  for p in n.parameters():\n",
    "    p.data += -0.01 * p.grad\n",
    "  \n",
    "  print(k , loss.data)\n",
    "  "
   ]
  },
  {
   "cell_type": "code",
   "execution_count": 58,
   "metadata": {},
   "outputs": [
    {
     "data": {
      "text/plain": [
       "[Value(data=0.9505937219460049),\n",
       " Value(data=-0.9668359078656146),\n",
       " Value(data=-0.9033359729465995),\n",
       " Value(data=0.9143019603455314)]"
      ]
     },
     "execution_count": 58,
     "metadata": {},
     "output_type": "execute_result"
    }
   ],
   "source": [
    "ypred"
   ]
  },
  {
   "cell_type": "code",
   "execution_count": null,
   "metadata": {},
   "outputs": [],
   "source": []
  }
 ],
 "metadata": {
  "kernelspec": {
   "display_name": "Python 3",
   "language": "python",
   "name": "python3"
  },
  "language_info": {
   "codemirror_mode": {
    "name": "ipython",
    "version": 3
   },
   "file_extension": ".py",
   "mimetype": "text/x-python",
   "name": "python",
   "nbconvert_exporter": "python",
   "pygments_lexer": "ipython3",
   "version": "3.12.7"
  }
 },
 "nbformat": 4,
 "nbformat_minor": 2
}
